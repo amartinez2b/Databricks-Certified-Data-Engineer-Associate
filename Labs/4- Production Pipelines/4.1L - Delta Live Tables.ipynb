{
 "cells": [
  {
   "cell_type": "markdown",
   "metadata": {
    "application/vnd.databricks.v1+cell": {
     "cellMetadata": {},
     "inputWidgets": {},
     "nuid": "16d2b2ea-3929-4144-aca8-286f62791059",
     "showTitle": false,
     "tableResultSettingsMap": {},
     "title": ""
    }
   },
   "source": [
    "\n",
    "## Lab: implementing a DLT pipeline\n",
    "\n",
    "> This notebook is **not intended** to be executed interactively, but rather to be deployed as a DLT pipeline from the **workflows** tab\n",
    "\n",
    "\n",
    "* Help: <a href=\"https://docs.databricks.com/en/delta-live-tables/tutorial-sql.html\" target=\"_blank\">DLT syntax documentation</a>."
   ]
  },
  {
   "cell_type": "markdown",
   "metadata": {
    "application/vnd.databricks.v1+cell": {
     "cellMetadata": {},
     "inputWidgets": {},
     "isMarkdownSandbox": true,
     "nuid": "eddf1b6f-d6bc-41d5-a641-9bacab8cbd5a",
     "showTitle": false,
     "tableResultSettingsMap": {},
     "title": ""
    }
   },
   "source": [
    "\n",
    "<div  style=\"text-align: center; line-height: 0; padding-top: 9px;\">\n",
    "  <img src=\"https://raw.githubusercontent.com/derar-alhussein/Databricks-Certified-Data-Engineer-Associate/main/Labs/Includes/images/school_schema.png\" alt=\"School Schema\" style=\"width: 600\">\n",
    "</div>"
   ]
  },
  {
   "cell_type": "code",
   "execution_count": 0,
   "metadata": {
    "application/vnd.databricks.v1+cell": {
     "cellMetadata": {},
     "inputWidgets": {},
     "nuid": "265e8b4e-c408-41e8-8127-c552bb45a231",
     "showTitle": false,
     "tableResultSettingsMap": {},
     "title": ""
    }
   },
   "outputs": [],
   "source": [
    "SET datasets.path=dbfs:/mnt/DE-Associate/datasets/school;"
   ]
  },
  {
   "cell_type": "markdown",
   "metadata": {
    "application/vnd.databricks.v1+cell": {
     "cellMetadata": {},
     "inputWidgets": {},
     "nuid": "fae72781-e68d-4664-8999-0757969f0e22",
     "showTitle": false,
     "tableResultSettingsMap": {},
     "title": ""
    }
   },
   "source": [
    "#### Q1- Declaring Bronze Tables\n",
    "\n",
    "Declare a streaming live table, **`enrollments_bronze`**, that ingests JSON data incrementally using Auto Loader from the directory **\"${datasets.path}/enrollments-json-raw\"**"
   ]
  },
  {
   "cell_type": "code",
   "execution_count": 0,
   "metadata": {
    "application/vnd.databricks.v1+cell": {
     "cellMetadata": {},
     "inputWidgets": {},
     "nuid": "5afe9e89-a726-4c1c-b32f-8e7560246493",
     "showTitle": false,
     "tableResultSettingsMap": {},
     "title": ""
    }
   },
   "outputs": [],
   "source": [
    "CREATE ____________________\n",
    "AS SELECT * FROM cloud_files(\"${datasets.path}/enrollments-json-raw\", \"json\",\n",
    "                             map(\"cloudFiles.inferColumnTypes\", \"true\"))"
   ]
  },
  {
   "cell_type": "markdown",
   "metadata": {
    "application/vnd.databricks.v1+cell": {
     "cellMetadata": {},
     "inputWidgets": {},
     "nuid": "36f2e3ba-01b6-43bb-a561-8aa3b1687a7d",
     "showTitle": false,
     "tableResultSettingsMap": {},
     "title": ""
    }
   },
   "source": [
    "Declare a live table, **`students_bronze`**, that load data directly from JSON files in the directory **\"${datasets.path}/students-json\"**"
   ]
  },
  {
   "cell_type": "code",
   "execution_count": 0,
   "metadata": {
    "application/vnd.databricks.v1+cell": {
     "cellMetadata": {},
     "inputWidgets": {},
     "nuid": "00f2ce25-c991-46a3-b80a-731f8d6791c8",
     "showTitle": false,
     "tableResultSettingsMap": {},
     "title": ""
    }
   },
   "outputs": [],
   "source": [
    "CREATE ____________________\n",
    "AS SELECT * FROM json.`${datasets.path}/students-json`"
   ]
  },
  {
   "cell_type": "markdown",
   "metadata": {
    "application/vnd.databricks.v1+cell": {
     "cellMetadata": {},
     "inputWidgets": {},
     "nuid": "f3441131-e36a-4cdd-baf7-fdda78c71f2f",
     "showTitle": false,
     "tableResultSettingsMap": {},
     "title": ""
    }
   },
   "source": [
    "#### Q2 - Declaring Silver Table\n",
    "\n",
    "Declare a streaming live table, **`enrollments_cleaned`**, that:\n",
    "\n",
    "1. Enrich the **enrollments_bronze** data through an inner join with the **`students_bronze`** table on the common **`student_id`** field to obtain the student's country\n",
    "1. Implement quality control by applying a constraint to drop records with a null **`email`**\n",
    "1. The table will have the following schema:\n",
    "\n",
    "| Field | Type |\n",
    "| --- | --- |\n",
    "| **`enroll_id`** | **`STRING`** |\n",
    "| **`total`** | **`DOUBLE`** |\n",
    "| **`email`** | **`STRING`** |\n",
    "| **`country`** | **`STRING`** |\n"
   ]
  },
  {
   "cell_type": "code",
   "execution_count": 0,
   "metadata": {
    "application/vnd.databricks.v1+cell": {
     "cellMetadata": {},
     "inputWidgets": {},
     "nuid": "8556ea04-f091-4466-99fa-c451a042f85a",
     "showTitle": false,
     "tableResultSettingsMap": {},
     "title": ""
    }
   },
   "outputs": [],
   "source": [
    "CREATE OR REFRESH STREAMING LIVE TABLE enrollments_cleaned\n",
    "  (CONSTRAINT ____________________ ON VIOLATION ____________________ )\n",
    "AS SELECT enroll_id, total, email, profile:address:country as country\n",
    "  FROM ____________________ n\n",
    "  INNER ____________________ s\n",
    "    ON n.student_id = s.student_id"
   ]
  },
  {
   "cell_type": "markdown",
   "metadata": {
    "application/vnd.databricks.v1+cell": {
     "cellMetadata": {},
     "inputWidgets": {},
     "nuid": "4f97455a-10d4-4244-bee7-91b6782e9a4b",
     "showTitle": false,
     "tableResultSettingsMap": {},
     "title": ""
    }
   },
   "source": [
    "### Q3- Declaring Gold Table\n",
    "\n",
    "Declare a live table, **`course_sales_per_country`** against **`enrollments_cleaned`** that calculate per **`country`** the following:\n",
    "* **`enrollments_count`**: the number of enrollments\n",
    "* **`enrollments_amount`**: the sum of the total amount of enrollments\n",
    "\n",
    "Add a comment to the table: \"Course Sales Per Country\""
   ]
  },
  {
   "cell_type": "code",
   "execution_count": 0,
   "metadata": {
    "application/vnd.databricks.v1+cell": {
     "cellMetadata": {},
     "inputWidgets": {},
     "nuid": "de36493c-09a0-49bd-9f23-3686789132ab",
     "showTitle": false,
     "tableResultSettingsMap": {},
     "title": ""
    }
   },
   "outputs": [],
   "source": [
    "CREATE OR REFRESH LIVE TABLE course_sales_per_country\n",
    "  COMMENT ____________________\n",
    "AS SELECT ____________________\n"
   ]
  },
  {
   "cell_type": "markdown",
   "metadata": {
    "application/vnd.databricks.v1+cell": {
     "cellMetadata": {},
     "inputWidgets": {},
     "nuid": "fd8b7677-bc28-4e85-ac17-adf1e787a904",
     "showTitle": false,
     "tableResultSettingsMap": {},
     "title": ""
    }
   },
   "source": [
    "### Q4- Deploying DLT pipeline\n",
    "\n",
    "From the **Workflows** button on the sidebar, under the **Delta Live Tables** tab, click **Create Pipeline**\n",
    "\n",
    "Configure the pipeline settings specified below:\n",
    "\n",
    "| Setting | Instructions |\n",
    "|--|--|\n",
    "| Pipeline name | School DLT |\n",
    "| Product edition | Choose **Advanced** |\n",
    "| Pipeline mode | Choose **Triggered** |\n",
    "| Source code | Use the navigator to select this current notebook (4.1L - Delta Live Tables) |\n",
    "| Storage location | dbfs:/mnt/DE-Associate/dlt/school |\n",
    "| Target schema | DE_Associate_School_DLT |\n",
    "| Cluster policy | Leave it **None**|\n",
    "| Cluster mode | Choose **Fixed size**|\n",
    "| Workers | Enter **0**|\n",
    "| Photon Acceleration | Leave it unchecked |\n",
    "| Advanced Configuration | Click **Add Configuration** and enter:<br> - Key: **datasets.path** <br> - Value: **dbfs:/mnt/DE-Associate/datasets/school** |\n",
    "| Channel | Choose **Current**|\n",
    "\n",
    "Finally, click **Create**."
   ]
  },
  {
   "cell_type": "markdown",
   "metadata": {
    "application/vnd.databricks.v1+cell": {
     "cellMetadata": {},
     "inputWidgets": {},
     "nuid": "32905584-182a-44e4-b7ac-89aa64efe026",
     "showTitle": false,
     "tableResultSettingsMap": {},
     "title": ""
    }
   },
   "source": [
    "### Q5 - Run your Pipeline\n",
    "\n",
    "Select **Development** mode and Click **Start** to begin the update to your pipeline's tables"
   ]
  }
 ],
 "metadata": {
  "application/vnd.databricks.v1+notebook": {
   "computePreferences": null,
   "dashboards": [],
   "environmentMetadata": null,
   "inputWidgetPreferences": null,
   "language": "sql",
   "notebookMetadata": {},
   "notebookName": "4.1L - Delta Live Tables",
   "widgets": {}
  },
  "language_info": {
   "name": "sql"
  }
 },
 "nbformat": 4,
 "nbformat_minor": 0
}