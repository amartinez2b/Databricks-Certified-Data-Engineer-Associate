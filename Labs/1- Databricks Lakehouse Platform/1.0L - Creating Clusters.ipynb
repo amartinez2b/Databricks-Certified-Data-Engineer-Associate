{
 "cells": [
  {
   "cell_type": "markdown",
   "metadata": {
    "application/vnd.databricks.v1+cell": {
     "cellMetadata": {},
     "inputWidgets": {},
     "nuid": "78540ca4-9b37-435a-8cf2-db080e9477b1",
     "showTitle": false,
     "tableResultSettingsMap": {},
     "title": ""
    }
   },
   "source": [
    "\n",
    "## Lab: Creating Clusters"
   ]
  },
  {
   "cell_type": "markdown",
   "metadata": {
    "application/vnd.databricks.v1+cell": {
     "cellMetadata": {},
     "inputWidgets": {},
     "nuid": "3370bf19-dd5a-48f7-ba64-3e3c0ddf2898",
     "showTitle": false,
     "tableResultSettingsMap": {},
     "title": ""
    }
   },
   "source": [
    "#### Q1 - Creating a Demo Cluster\n",
    "\n",
    "Create a cluster with the following configurations:\n",
    "\n",
    "| Setting | Instructions |\n",
    "|--|--|\n",
    "|Cluster name|**Demo Cluster**|\n",
    "|Cluster mode|**Signle node**|\n",
    "|Runtime version|Select the Databricks runtime version 13.3 LTS|\n",
    "|Photon Acceleration| Uncheck the option |\n",
    "|Node type|4 cores|\n",
    "|Auto termination|30 minutes|\n"
   ]
  }
 ],
 "metadata": {
  "application/vnd.databricks.v1+notebook": {
   "computePreferences": null,
   "dashboards": [],
   "environmentMetadata": null,
   "inputWidgetPreferences": null,
   "language": "python",
   "notebookMetadata": {
    "pythonIndentUnit": 4
   },
   "notebookName": "1.0L - Creating Clusters",
   "widgets": {}
  },
  "language_info": {
   "name": "python"
  }
 },
 "nbformat": 4,
 "nbformat_minor": 0
}