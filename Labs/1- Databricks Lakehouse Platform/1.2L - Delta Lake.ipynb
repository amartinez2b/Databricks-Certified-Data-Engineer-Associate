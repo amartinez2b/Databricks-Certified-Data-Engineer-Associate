{
 "cells": [
  {
   "cell_type": "markdown",
   "metadata": {
    "application/vnd.databricks.v1+cell": {
     "cellMetadata": {},
     "inputWidgets": {},
     "nuid": "48ab4adc-cad6-4fdc-a667-708a0be303cb",
     "showTitle": false,
     "tableResultSettingsMap": {},
     "title": ""
    }
   },
   "source": [
    "\n",
    "## Lab: Delta Lake"
   ]
  },
  {
   "cell_type": "markdown",
   "metadata": {
    "application/vnd.databricks.v1+cell": {
     "cellMetadata": {},
     "inputWidgets": {},
     "nuid": "0c6431ee-f2ab-44ae-baf8-c2360b73c9a1",
     "showTitle": false,
     "tableResultSettingsMap": {},
     "title": ""
    }
   },
   "source": [
    "#### Creating a Delta Table \n",
    "\n",
    "Run the cell below to create the **persons** Delta Table, and apply some operations on it."
   ]
  },
  {
   "cell_type": "code",
   "execution_count": 0,
   "metadata": {
    "application/vnd.databricks.v1+cell": {
     "cellMetadata": {},
     "inputWidgets": {},
     "nuid": "eaae32be-2bea-48a5-8e95-8bfe715c952d",
     "showTitle": false,
     "tableResultSettingsMap": {},
     "title": ""
    }
   },
   "outputs": [],
   "source": [
    "USE CATALOG hive_metastore;\n",
    "\n",
    "CREATE OR REPLACE TABLE persons\n",
    "  (id INT, name STRING, age INT);\n",
    "\n",
    "INSERT INTO persons\n",
    "VALUES \n",
    "  (1, \"Tom\", 18),\n",
    "  (2, \"Kumar\", 25);\n",
    "\n",
    "INSERT INTO persons\n",
    "VALUES \n",
    "  (3, \"Ali\", 50),\n",
    "  (4, \"Sandra\", 35);\n",
    "\n",
    "INSERT INTO persons\n",
    "VALUES \n",
    "  (5, \"Eric\", 28),\n",
    "  (6, \"Salma\", 42);\n",
    "\n",
    "UPDATE persons \n",
    "SET age = age + 10\n",
    "WHERE id = 1;\n",
    "\n",
    "DELETE FROM persons\n",
    "WHERE name = \"Eric\";"
   ]
  },
  {
   "cell_type": "markdown",
   "metadata": {
    "application/vnd.databricks.v1+cell": {
     "cellMetadata": {},
     "inputWidgets": {},
     "nuid": "0293ce14-a98b-4a7a-95d3-b302e2824c98",
     "showTitle": false,
     "tableResultSettingsMap": {},
     "title": ""
    }
   },
   "source": [
    "#### Q1 - Querying Delta Lake table\n",
    "\n",
    "Query the data in the **persons** table using **SELECT** statement"
   ]
  },
  {
   "cell_type": "code",
   "execution_count": 0,
   "metadata": {
    "application/vnd.databricks.v1+cell": {
     "cellMetadata": {},
     "inputWidgets": {},
     "nuid": "1fb2d181-f0bf-44c4-b2e1-0ed147322a25",
     "showTitle": false,
     "tableResultSettingsMap": {},
     "title": ""
    }
   },
   "outputs": [],
   "source": [
    "--------------------"
   ]
  },
  {
   "cell_type": "markdown",
   "metadata": {
    "application/vnd.databricks.v1+cell": {
     "cellMetadata": {},
     "inputWidgets": {},
     "nuid": "a10e3567-8e2b-479b-8a64-410b4dbac076",
     "showTitle": false,
     "tableResultSettingsMap": {},
     "title": ""
    }
   },
   "source": [
    "#### Q2 - Checking table history\n",
    "\n",
    "Review the history of the table transactions using the **DESCRIBE HISTORY** command"
   ]
  },
  {
   "cell_type": "code",
   "execution_count": 0,
   "metadata": {
    "application/vnd.databricks.v1+cell": {
     "cellMetadata": {},
     "inputWidgets": {},
     "nuid": "97e3d4b4-e9a6-4f55-bda3-c0c742224d5e",
     "showTitle": false,
     "tableResultSettingsMap": {},
     "title": ""
    }
   },
   "outputs": [],
   "source": [
    "--------------------"
   ]
  },
  {
   "cell_type": "markdown",
   "metadata": {
    "application/vnd.databricks.v1+cell": {
     "cellMetadata": {},
     "inputWidgets": {},
     "nuid": "537410bd-c937-4d54-bd70-b936b9f8a0d3",
     "showTitle": false,
     "tableResultSettingsMap": {},
     "title": ""
    }
   },
   "source": [
    "#### Q3- Checking table metadata\n",
    "\n",
    "Review the basic metadata information of the table using the **DESCRIBE DETAIL** command"
   ]
  },
  {
   "cell_type": "code",
   "execution_count": 0,
   "metadata": {
    "application/vnd.databricks.v1+cell": {
     "cellMetadata": {},
     "inputWidgets": {},
     "nuid": "e4c6b5a0-3174-4c00-a7df-705b76474142",
     "showTitle": false,
     "tableResultSettingsMap": {},
     "title": ""
    }
   },
   "outputs": [],
   "source": [
    "--------------------"
   ]
  },
  {
   "cell_type": "markdown",
   "metadata": {
    "application/vnd.databricks.v1+cell": {
     "cellMetadata": {},
     "inputWidgets": {},
     "nuid": "a0f54365-2d53-4e85-9e24-ac9bb68a3722",
     "showTitle": false,
     "tableResultSettingsMap": {},
     "title": ""
    }
   },
   "source": [
    "#### Q4- Exploring table directory\n",
    "\n",
    "Explore the table directory using the **%fs** magic command.\n",
    "\n",
    ">**Hint:** get the table location from the above metadata information"
   ]
  },
  {
   "cell_type": "code",
   "execution_count": 0,
   "metadata": {
    "application/vnd.databricks.v1+cell": {
     "cellMetadata": {},
     "inputWidgets": {},
     "nuid": "1e57eb5e-08e2-4bcd-aaa8-26c88486c856",
     "showTitle": false,
     "tableResultSettingsMap": {},
     "title": ""
    }
   },
   "outputs": [],
   "source": [
    "--------------------"
   ]
  },
  {
   "cell_type": "markdown",
   "metadata": {
    "application/vnd.databricks.v1+cell": {
     "cellMetadata": {},
     "inputWidgets": {},
     "nuid": "a64cb1ec-d01b-414f-aea5-c8644e54f822",
     "showTitle": false,
     "tableResultSettingsMap": {},
     "title": ""
    }
   },
   "source": [
    "#### Q5- Exploring the transactions log\n",
    "\n",
    "Explore the **_delta_log** subfolder in the table directory"
   ]
  },
  {
   "cell_type": "code",
   "execution_count": 0,
   "metadata": {
    "application/vnd.databricks.v1+cell": {
     "cellMetadata": {},
     "inputWidgets": {},
     "nuid": "6f6f5de6-6204-42db-b0bd-bfba2ff2b734",
     "showTitle": false,
     "tableResultSettingsMap": {},
     "title": ""
    }
   },
   "outputs": [],
   "source": [
    "--------------------"
   ]
  }
 ],
 "metadata": {
  "application/vnd.databricks.v1+notebook": {
   "computePreferences": null,
   "dashboards": [],
   "environmentMetadata": null,
   "inputWidgetPreferences": null,
   "language": "sql",
   "notebookMetadata": {
    "pythonIndentUnit": 4
   },
   "notebookName": "1.2L - Delta Lake",
   "widgets": {}
  },
  "language_info": {
   "name": "sql"
  }
 },
 "nbformat": 4,
 "nbformat_minor": 0
}