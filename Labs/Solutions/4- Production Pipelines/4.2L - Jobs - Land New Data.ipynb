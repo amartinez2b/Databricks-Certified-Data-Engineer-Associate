{
 "cells": [
  {
   "cell_type": "markdown",
   "metadata": {
    "application/vnd.databricks.v1+cell": {
     "cellMetadata": {},
     "inputWidgets": {},
     "nuid": "dc84a56c-37e5-4f03-9e9e-9ddf0841a726",
     "showTitle": false,
     "tableResultSettingsMap": {},
     "title": ""
    }
   },
   "source": [
    "\n",
    "## Lab: Creating a multi-task job\n",
    "\n",
    "In this lab, we will create a job that has 2 tasks:\n",
    "1. The current notebook that lands a new batch of data in the lab dataset directory\n",
    "1. The Delta Live Table pipeline created in the previous lab to processes this data\n",
    "\n",
    "* Help: <a href=\"https://docs.databricks.com/workflows/jobs/create-run-jobs.html\" target=\"_blank\">Databricks Jobs documentation</a>."
   ]
  },
  {
   "cell_type": "markdown",
   "metadata": {
    "application/vnd.databricks.v1+cell": {
     "cellMetadata": {},
     "inputWidgets": {},
     "isMarkdownSandbox": true,
     "nuid": "79b4b76f-ef67-4425-80e1-ee5aec29b23b",
     "showTitle": false,
     "tableResultSettingsMap": {},
     "title": ""
    }
   },
   "source": [
    "\n",
    "<div  style=\"text-align: center; line-height: 0; padding-top: 9px;\">\n",
    "  <img src=\"https://raw.githubusercontent.com/derar-alhussein/Databricks-Certified-Data-Engineer-Associate/main/Labs/Includes/images/school_job.png\">\n",
    "</div>"
   ]
  },
  {
   "cell_type": "markdown",
   "metadata": {
    "application/vnd.databricks.v1+cell": {
     "cellMetadata": {},
     "inputWidgets": {},
     "nuid": "5881df94-631d-4707-b52e-a4d9aa8a9828",
     "showTitle": false,
     "tableResultSettingsMap": {},
     "title": ""
    }
   },
   "source": [
    "#### Q1- Configuring Task 1 -  Land New Data\n",
    "\n",
    "\n",
    "From the **Workflows** button on the sidebar, under the **Jobs** tab, click the **Create Job** button.\n",
    "\n",
    "<br>\n",
    "\n",
    "1. Set the job name in the top-left of the screen to **School Job** \n",
    "1. Configure the first task as specified below:\n",
    "| Setting | Value |\n",
    "|--|--|\n",
    "| Task name | Enter **Land New Data** |\n",
    "| Type | Choose **Notebook** |\n",
    "| Source | Choose **Workspace** |\n",
    "| Path | Use the navigator to choose the current notebook (4.2L - Jobs - Land New Data) |\n",
    "| Cluster | Select your cluster from the dropdown, under **Existing All Purpose Clusters** |\n",
    "\n",
    "\n",
    "<br>\n",
    "\n",
    "3. Click the **Create** button"
   ]
  },
  {
   "cell_type": "markdown",
   "metadata": {
    "application/vnd.databricks.v1+cell": {
     "cellMetadata": {},
     "inputWidgets": {},
     "nuid": "c7bd6919-2de6-4045-af59-7a9d89f92cdd",
     "showTitle": false,
     "tableResultSettingsMap": {},
     "title": ""
    }
   },
   "source": [
    "#### Q2- Configuring Task 2 - DLT pipeline\n",
    "\n",
    "<br>\n",
    "\n",
    "1. Click the add button (**+**) to add a new **Delta Live Tables pipeline** task \n",
    "1. Configure the task:\n",
    "\n",
    "| Setting | Value |\n",
    "|--|--|\n",
    "| Task name | Enter **DLT pipeline** |\n",
    "| Type | Choose **Delta Live Tables pipeline** |\n",
    "| Pipeline | Choose the DLT pipeline created in the previous lab |\n",
    "| Depends on | Choose **Land New Data**, which is the previous task we defined above |\n",
    "\n",
    "<br>\n",
    "\n",
    "3. Click the **Create task** button"
   ]
  },
  {
   "cell_type": "markdown",
   "metadata": {
    "application/vnd.databricks.v1+cell": {
     "cellMetadata": {},
     "inputWidgets": {},
     "nuid": "927bfd3e-e086-48ff-ba33-c676d33b8864",
     "showTitle": false,
     "tableResultSettingsMap": {},
     "title": ""
    }
   },
   "source": [
    "#### Q3- Run the job \n",
    "\n",
    "Click the **Run now** button in the top right to run this job. From the **Runs** tab, check your job run"
   ]
  },
  {
   "cell_type": "markdown",
   "metadata": {
    "application/vnd.databricks.v1+cell": {
     "cellMetadata": {},
     "inputWidgets": {},
     "nuid": "428a38e2-f719-4e85-a3b4-601d2d81bda0",
     "showTitle": false,
     "tableResultSettingsMap": {},
     "title": ""
    }
   },
   "source": [
    "#### Q4- Review the finished job \n",
    "\n",
    "Once all tasks completed successfully, review the contents of each task to verify its result"
   ]
  },
  {
   "cell_type": "markdown",
   "metadata": {
    "application/vnd.databricks.v1+cell": {
     "cellMetadata": {},
     "inputWidgets": {},
     "nuid": "190d6ab3-c4ea-44c7-b1df-fb7202e28780",
     "showTitle": false,
     "tableResultSettingsMap": {},
     "title": ""
    }
   },
   "source": [
    "> **Note**: The below cells are to be run as part of the **Task 1** to land new batch of data in the dataset directory"
   ]
  },
  {
   "cell_type": "code",
   "execution_count": 0,
   "metadata": {
    "application/vnd.databricks.v1+cell": {
     "cellMetadata": {},
     "inputWidgets": {},
     "nuid": "acaedd14-651f-47b1-aaa1-a5537c19ee0b",
     "showTitle": false,
     "tableResultSettingsMap": {},
     "title": ""
    }
   },
   "outputs": [],
   "source": [
    "%run ../Includes/Setup-Lab"
   ]
  },
  {
   "cell_type": "code",
   "execution_count": 0,
   "metadata": {
    "application/vnd.databricks.v1+cell": {
     "cellMetadata": {},
     "inputWidgets": {},
     "nuid": "cc912ca0-6428-4b7e-8aab-110dc6674e1b",
     "showTitle": false,
     "tableResultSettingsMap": {},
     "title": ""
    }
   },
   "outputs": [],
   "source": [
    "load_new_json_data()"
   ]
  }
 ],
 "metadata": {
  "application/vnd.databricks.v1+notebook": {
   "computePreferences": null,
   "dashboards": [],
   "environmentMetadata": null,
   "inputWidgetPreferences": null,
   "language": "python",
   "notebookMetadata": {
    "pythonIndentUnit": 4
   },
   "notebookName": "4.2L - Jobs - Land New Data",
   "widgets": {}
  },
  "language_info": {
   "name": "python"
  }
 },
 "nbformat": 4,
 "nbformat_minor": 0
}