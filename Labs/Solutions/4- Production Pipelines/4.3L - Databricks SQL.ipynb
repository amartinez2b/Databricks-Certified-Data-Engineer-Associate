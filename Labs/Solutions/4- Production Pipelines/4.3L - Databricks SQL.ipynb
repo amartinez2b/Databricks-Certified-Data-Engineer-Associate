{
 "cells": [
  {
   "cell_type": "markdown",
   "metadata": {
    "application/vnd.databricks.v1+cell": {
     "cellMetadata": {},
     "inputWidgets": {},
     "nuid": "a3814331-a578-4286-bb4a-6b233a060f80",
     "showTitle": false,
     "tableResultSettingsMap": {},
     "title": ""
    }
   },
   "source": [
    "\n",
    "## Lab: Design a Dashboard with DBSQL\n",
    "\n",
    "In this lab, we will design a dashboard in DBSQL that has 2 graphs:\n",
    "1. Bar graph that shows the number of students per country\n",
    "1. Line graph that shows the daily enrollments amount\n",
    "\n",
    "* Help: <a href=\"https://docs.databricks.com/sql/index.html#what-is-databricks-sql\" target=\"_blank\">Databricks SQL documentation</a>."
   ]
  },
  {
   "cell_type": "markdown",
   "metadata": {
    "application/vnd.databricks.v1+cell": {
     "cellMetadata": {},
     "inputWidgets": {},
     "isMarkdownSandbox": true,
     "nuid": "c0aeab2f-016b-4432-a7b4-2a736decbea9",
     "showTitle": false,
     "tableResultSettingsMap": {},
     "title": ""
    }
   },
   "source": [
    "\n",
    "<div  style=\"text-align: center; line-height: 0; padding-top: 9px;\">\n",
    "  <img src=\"https://raw.githubusercontent.com/derar-alhussein/Databricks-Certified-Data-Engineer-Associate/main/Labs/Includes/images/dashboard.png\" style=\"width: 1100\">\n",
    "</div>"
   ]
  },
  {
   "cell_type": "markdown",
   "metadata": {
    "application/vnd.databricks.v1+cell": {
     "cellMetadata": {},
     "inputWidgets": {},
     "nuid": "f770d046-dfc9-44b1-bf95-453057418ab0",
     "showTitle": false,
     "tableResultSettingsMap": {},
     "title": ""
    }
   },
   "source": [
    "#### Q1 - Working with queries in SQL Editor\n",
    "\n",
    "Run the the below query in **SQL Editor** in Databricks SQL, and then save it with the name **Student Counts**"
   ]
  },
  {
   "cell_type": "code",
   "execution_count": 0,
   "metadata": {
    "application/vnd.databricks.v1+cell": {
     "cellMetadata": {},
     "inputWidgets": {},
     "nuid": "fae70578-0f09-49f7-a038-e9d7a81b63f6",
     "showTitle": false,
     "tableResultSettingsMap": {},
     "title": ""
    }
   },
   "outputs": [],
   "source": [
    "SELECT profile:address:country as country, count(student_id) AS students_count\n",
    "FROM hive_metastore.de_associate_school.students\n",
    "GROUP BY profile:address:country\n",
    "ORDER BY students_count DESC\n",
    "LIMIT 10"
   ]
  },
  {
   "cell_type": "markdown",
   "metadata": {
    "application/vnd.databricks.v1+cell": {
     "cellMetadata": {},
     "inputWidgets": {},
     "nuid": "3dc0d5b3-7136-467d-9a76-d9c14432c88f",
     "showTitle": false,
     "tableResultSettingsMap": {},
     "title": ""
    }
   },
   "source": [
    "#### Q2 - Creating a Bar Graph Visualization\n",
    "\n",
    "Create a bar graph that shows the number of students per country\n",
    "\n",
    "<br>\n",
    "<img src=\"https://raw.githubusercontent.com/derar-alhussein/Databricks-Certified-Data-Engineer-Associate/main/Labs/Includes/images/bar_graph.png\" style=\"width: 100\">\n",
    "\n",
    "##### Anwser:\n",
    "Steps:\n",
    "1. Click the Add butoon (**+**) next to the results tab, and select **Visualization** from the dialog box\n",
    "1. Select **`Bar`** for the **Visualization Type**\n",
    "1. Set **`country`** for the **X Column**\n",
    "1. Under **Y columns** click **Add column**, and set it to **`students_count`**\n",
    "1. Click **Save**\n",
    "1. Finally, set the title of the graph to **Student Counts Viz**"
   ]
  },
  {
   "cell_type": "markdown",
   "metadata": {
    "application/vnd.databricks.v1+cell": {
     "cellMetadata": {},
     "inputWidgets": {},
     "nuid": "e208cbcb-f0a4-4ec0-ab6e-c7eae1d74515",
     "showTitle": false,
     "tableResultSettingsMap": {},
     "title": ""
    }
   },
   "source": [
    "#### Q3 - Creating a New Dashboard\n",
    "\n",
    "Add the above graph to a new dashboard named **Students Statistics**\n",
    "\n",
    "##### Anwser:\n",
    "\n",
    "Steps:\n",
    "1. Click the three vertical dots button at the top of the graph and select **Add to Dashboard**.\n",
    "1. Click the **Create new dashboard** option\n",
    "1. Name your dashboard **Students Statistics**\n",
    "1. Click **Save**\n",
    "1. With the new dashboard selected as the target, click **OK** to add your visualization"
   ]
  },
  {
   "cell_type": "markdown",
   "metadata": {
    "application/vnd.databricks.v1+cell": {
     "cellMetadata": {},
     "inputWidgets": {},
     "nuid": "8954d710-1866-4eff-bef9-de3b4a72af57",
     "showTitle": false,
     "tableResultSettingsMap": {},
     "title": ""
    }
   },
   "source": [
    "#### Q4 - Creating a Line Plot Visualization\n",
    "\n",
    "1. Run the the below query in a new query tab in the **SQL Editor**, and then save it with the name **Daily Sales**"
   ]
  },
  {
   "cell_type": "code",
   "execution_count": 0,
   "metadata": {
    "application/vnd.databricks.v1+cell": {
     "cellMetadata": {},
     "inputWidgets": {},
     "nuid": "da196cd6-e6c9-4e62-b00a-5ac66fabf9f2",
     "showTitle": false,
     "tableResultSettingsMap": {},
     "title": ""
    }
   },
   "outputs": [],
   "source": [
    "SELECT cast(from_unixtime(enroll_timestamp, 'yyyy-MM-dd HH:mm:ss') AS date) enroll_timestamp,\n",
    "        sum(total) AS enrollments_amount\n",
    "FROM hive_metastore.de_associate_school.enrollments n\n",
    "INNER JOIN hive_metastore.de_associate_school.students s ON s.student_id = n.student_id\n",
    "GROUP BY enroll_timestamp"
   ]
  },
  {
   "cell_type": "markdown",
   "metadata": {
    "application/vnd.databricks.v1+cell": {
     "cellMetadata": {},
     "inputWidgets": {},
     "nuid": "3de6de72-09e9-484c-9c9b-082c6c63c3c4",
     "showTitle": false,
     "tableResultSettingsMap": {},
     "title": ""
    }
   },
   "source": [
    "\n",
    "2. Create a Line Plot Visualization that shows the daily enrollments amount\n",
    "\n",
    "\n",
    "<br>\n",
    "<img src=\"https://raw.githubusercontent.com/derar-alhussein/Databricks-Certified-Data-Engineer-Associate/main/Labs/Includes/images/line_graph.png\" style=\"width: 100\">\n",
    "\n",
    "\n",
    "##### Anwser:\n",
    "\n",
    "Steps:\n",
    "1. Click the **Add Visualization** button\n",
    "1. Select **`Line`** for the **Visualization Type**\n",
    "1. Set **`enroll_timestamp`** for the **X Column**\n",
    "1. Under **Y columns** click **Add column**, and set it to **`enrollments_amount`**\n",
    "1. Click **Save**\n",
    "1. Finally, set the title of the graph to **Daily Sales Viz**\n",
    "1. Click the three vertical dots button at the top of the graph and select **Add to Dashboard**.\n",
    "1. Select the dashboard **Students Statistics** created above\n",
    "1. Click **OK** to add your visualization"
   ]
  },
  {
   "cell_type": "markdown",
   "metadata": {
    "application/vnd.databricks.v1+cell": {
     "cellMetadata": {},
     "inputWidgets": {},
     "nuid": "a4e64c31-cd2a-403e-8926-a17b2ec6cd64",
     "showTitle": false,
     "tableResultSettingsMap": {},
     "title": ""
    }
   },
   "source": [
    "#### Q5 - Review your Dashboard\n",
    "\n",
    "Open your Dashboard and refresh its underlaying data\n",
    "\n",
    "##### Anwser:\n",
    "\n",
    "Steps:\n",
    "1. Click on the **Dashboards** button on left side bar\n",
    "1. Find the dashboard **Students Statistics** created earlier. Click to open it\n",
    "1. Click the **Refresh** button to update your dashboard"
   ]
  }
 ],
 "metadata": {
  "application/vnd.databricks.v1+notebook": {
   "computePreferences": null,
   "dashboards": [],
   "environmentMetadata": null,
   "inputWidgetPreferences": null,
   "language": "sql",
   "notebookMetadata": {
    "pythonIndentUnit": 4
   },
   "notebookName": "4.3L - Databricks SQL",
   "widgets": {}
  },
  "language_info": {
   "name": "sql"
  }
 },
 "nbformat": 4,
 "nbformat_minor": 0
}