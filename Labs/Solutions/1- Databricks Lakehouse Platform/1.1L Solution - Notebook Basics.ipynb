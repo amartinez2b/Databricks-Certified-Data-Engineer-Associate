{
 "cells": [
  {
   "cell_type": "markdown",
   "metadata": {
    "application/vnd.databricks.v1+cell": {
     "cellMetadata": {},
     "inputWidgets": {},
     "nuid": "af264ba4-be95-468d-9ab9-812758b45bf0",
     "showTitle": false,
     "tableResultSettingsMap": {},
     "title": ""
    }
   },
   "source": [
    "\n",
    "## Lab Solution: Get started with Databricks Notebook\n"
   ]
  },
  {
   "cell_type": "markdown",
   "metadata": {
    "application/vnd.databricks.v1+cell": {
     "cellMetadata": {},
     "inputWidgets": {},
     "nuid": "b30e89d5-6bff-4c9d-af24-4ba13227764b",
     "showTitle": false,
     "tableResultSettingsMap": {},
     "title": ""
    }
   },
   "source": [
    "#### Q1 - Renaming the Notebook\n",
    "\n",
    "Change the name of the current notebook to \"1.1L - My first lab\"\n",
    "\n",
    "**Anwser:** to change the name of the notebook, click on the name at the top of this page, then make changes to the name"
   ]
  },
  {
   "cell_type": "markdown",
   "metadata": {
    "application/vnd.databricks.v1+cell": {
     "cellMetadata": {},
     "inputWidgets": {},
     "nuid": "5a8ac013-4868-4cd4-beab-c039de5f58a9",
     "showTitle": false,
     "tableResultSettingsMap": {},
     "title": ""
    }
   },
   "source": [
    "#### Q2 - Attaching a cluster\n",
    "\n",
    "Attach the cluster you created previously to this notebook \n",
    "\n",
    "**Anwser:** to attach a cluster to this notebook, click the dropdown near the top-right corner of this page. Select your cluster. "
   ]
  },
  {
   "cell_type": "markdown",
   "metadata": {
    "application/vnd.databricks.v1+cell": {
     "cellMetadata": {},
     "inputWidgets": {},
     "nuid": "ad655e3c-76c1-4fd0-849b-a2c6b985b3bc",
     "showTitle": false,
     "tableResultSettingsMap": {},
     "title": ""
    }
   },
   "source": [
    "#### Q3 - Execute a Python code\n",
    "\n",
    "In the below cell, fill in the blank to print the result of adding the two variables x and y"
   ]
  },
  {
   "cell_type": "code",
   "execution_count": 0,
   "metadata": {
    "application/vnd.databricks.v1+cell": {
     "cellMetadata": {},
     "inputWidgets": {},
     "nuid": "5637cb56-bffb-4829-9f6c-db43fe284022",
     "showTitle": false,
     "tableResultSettingsMap": {},
     "title": ""
    }
   },
   "outputs": [],
   "source": [
    "x = 5\n",
    "y = 10\n",
    "result = x + y\n",
    "\n",
    "# Answer\n",
    "print(result)"
   ]
  },
  {
   "cell_type": "markdown",
   "metadata": {
    "application/vnd.databricks.v1+cell": {
     "cellMetadata": {},
     "inputWidgets": {},
     "nuid": "a2160245-b490-4b1e-bdc8-9037605ee559",
     "showTitle": false,
     "tableResultSettingsMap": {},
     "title": ""
    }
   },
   "source": [
    "#### Q4 - Execute a SQL cell\n",
    "\n",
    "Change the language in the below cell to execute the SQL statement"
   ]
  },
  {
   "cell_type": "code",
   "execution_count": 0,
   "metadata": {
    "application/vnd.databricks.v1+cell": {
     "cellMetadata": {},
     "inputWidgets": {},
     "nuid": "94d5028a-6ea1-4548-852f-45c8562afd47",
     "showTitle": false,
     "tableResultSettingsMap": {},
     "title": ""
    }
   },
   "outputs": [],
   "source": [
    "%sql\n",
    "SELECT 5 + 10"
   ]
  },
  {
   "cell_type": "markdown",
   "metadata": {
    "application/vnd.databricks.v1+cell": {
     "cellMetadata": {},
     "inputWidgets": {},
     "nuid": "22a42b16-4476-4915-8507-84065328602d",
     "showTitle": false,
     "tableResultSettingsMap": {},
     "title": ""
    }
   },
   "source": [
    "#### Q5 - Create a Markdown Cell\n",
    "\n",
    "1. Insert a new cell below this one\n",
    "1. In the new cell, add Markdown with a header and bullet points as shown in the following image\n",
    "\n",
    "<div>\n",
    "  <img src=\"https://raw.githubusercontent.com/derar-alhussein/Databricks-Certified-Data-Engineer-Associate/main/Labs/Includes/images/markdown.png\">\n",
    "</div>"
   ]
  },
  {
   "cell_type": "markdown",
   "metadata": {
    "application/vnd.databricks.v1+cell": {
     "cellMetadata": {},
     "inputWidgets": {},
     "nuid": "a443038a-f63c-41ee-bc55-f351a448d85b",
     "showTitle": false,
     "tableResultSettingsMap": {},
     "title": ""
    }
   },
   "source": [
    "\n",
    "# Animals\n",
    "\n",
    "* Cats\n",
    "* Dogs\n",
    "* Birds"
   ]
  },
  {
   "cell_type": "markdown",
   "metadata": {
    "application/vnd.databricks.v1+cell": {
     "cellMetadata": {},
     "inputWidgets": {},
     "nuid": "7d37cc0d-5fe8-4ac4-9ff3-6027b8d0751c",
     "showTitle": false,
     "tableResultSettingsMap": {},
     "title": ""
    }
   },
   "source": [
    "#### Q6 - Using %run command\n",
    "\n",
    "1. Create a new Python notebook named **helper** in the current directory (i.e., in the **labs/1- Databricks Lakehouse Platform** folder)\n",
    "1. In the **helper** notebook, declare a variable called **my_country** and assign it a value of your country name. For example:\n",
    "> my_country = \"France\"\n",
    "1. In the following cell, execute a %run command to include the **helper** notebook into this current notebook\n",
    "> **Hint**: use a dot (**.**) to refer to the current directory"
   ]
  },
  {
   "cell_type": "code",
   "execution_count": 0,
   "metadata": {
    "application/vnd.databricks.v1+cell": {
     "cellMetadata": {},
     "inputWidgets": {},
     "nuid": "7300e75b-0b21-4f19-af92-aa4101a6042f",
     "showTitle": false,
     "tableResultSettingsMap": {},
     "title": ""
    }
   },
   "outputs": [],
   "source": [
    "%run ./helper"
   ]
  },
  {
   "cell_type": "markdown",
   "metadata": {
    "application/vnd.databricks.v1+cell": {
     "cellMetadata": {},
     "inputWidgets": {},
     "nuid": "e4ecc53c-c4c3-4bdc-9329-22e19192a0ba",
     "showTitle": false,
     "tableResultSettingsMap": {},
     "title": ""
    }
   },
   "source": [
    "Now, run the following cell to test that you are able to print the **my_country** variable"
   ]
  },
  {
   "cell_type": "code",
   "execution_count": 0,
   "metadata": {
    "application/vnd.databricks.v1+cell": {
     "cellMetadata": {},
     "inputWidgets": {},
     "nuid": "0325ea35-4011-4254-8606-3fbc7b2e9d45",
     "showTitle": false,
     "tableResultSettingsMap": {},
     "title": ""
    }
   },
   "outputs": [],
   "source": [
    "print(my_country)"
   ]
  },
  {
   "cell_type": "markdown",
   "metadata": {
    "application/vnd.databricks.v1+cell": {
     "cellMetadata": {},
     "inputWidgets": {},
     "nuid": "bcf375f0-2e61-4ee0-a260-dae973737c88",
     "showTitle": false,
     "tableResultSettingsMap": {},
     "title": ""
    }
   },
   "source": [
    "#### Q7 - Functions definition\n",
    "1. In the **helper** notebook, define a Python function named **addition()** that print the sum of two numbers \n",
    "1. Execute again the above %run command to take the function definition into account\n",
    "1. Run the below cell to call the function"
   ]
  },
  {
   "cell_type": "code",
   "execution_count": 0,
   "metadata": {
    "application/vnd.databricks.v1+cell": {
     "cellMetadata": {},
     "inputWidgets": {},
     "nuid": "8283178b-7134-4fb1-9e87-d1e7e95d24bc",
     "showTitle": false,
     "tableResultSettingsMap": {},
     "title": ""
    }
   },
   "outputs": [],
   "source": [
    "num1 = 20\n",
    "num2 = 30\n",
    "\n",
    "addition(num1, num2)"
   ]
  }
 ],
 "metadata": {
  "application/vnd.databricks.v1+notebook": {
   "computePreferences": null,
   "dashboards": [],
   "environmentMetadata": null,
   "inputWidgetPreferences": null,
   "language": "python",
   "notebookMetadata": {
    "pythonIndentUnit": 4
   },
   "notebookName": "1.1L Solution - Notebook Basics",
   "widgets": {}
  },
  "language_info": {
   "name": "python"
  }
 },
 "nbformat": 4,
 "nbformat_minor": 0
}