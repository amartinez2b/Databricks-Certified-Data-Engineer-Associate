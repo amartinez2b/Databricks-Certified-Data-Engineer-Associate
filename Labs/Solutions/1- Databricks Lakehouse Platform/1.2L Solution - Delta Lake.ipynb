{
 "cells": [
  {
   "cell_type": "markdown",
   "metadata": {
    "application/vnd.databricks.v1+cell": {
     "cellMetadata": {},
     "inputWidgets": {},
     "nuid": "73723661-f501-45ef-b2d8-eb5f24695854",
     "showTitle": false,
     "tableResultSettingsMap": {},
     "title": ""
    }
   },
   "source": [
    "\n",
    "## Lab Solution: Delta Lake"
   ]
  },
  {
   "cell_type": "markdown",
   "metadata": {
    "application/vnd.databricks.v1+cell": {
     "cellMetadata": {},
     "inputWidgets": {},
     "nuid": "8dd9437f-7233-4af0-8466-a261d14a8929",
     "showTitle": false,
     "tableResultSettingsMap": {},
     "title": ""
    }
   },
   "source": [
    "#### Creating a Delta Table \n",
    "\n",
    "Run the cell below to create the **persons** Delta Table, and apply some operations on it."
   ]
  },
  {
   "cell_type": "code",
   "execution_count": 0,
   "metadata": {
    "application/vnd.databricks.v1+cell": {
     "cellMetadata": {},
     "inputWidgets": {},
     "nuid": "cd3c34f1-2e2e-48d4-8c9e-92075881ca47",
     "showTitle": false,
     "tableResultSettingsMap": {},
     "title": ""
    }
   },
   "outputs": [],
   "source": [
    "USE CATALOG hive_metastore;\n",
    "\n",
    "CREATE OR REPLACE TABLE persons\n",
    "  (id INT, name STRING, age INT);\n",
    "\n",
    "INSERT INTO persons\n",
    "VALUES \n",
    "  (1, \"Tom\", 18),\n",
    "  (2, \"Kumar\", 25);\n",
    "\n",
    "INSERT INTO persons\n",
    "VALUES \n",
    "  (3, \"Ali\", 50),\n",
    "  (4, \"Sandra\", 35);\n",
    "\n",
    "INSERT INTO persons\n",
    "VALUES \n",
    "  (5, \"Eric\", 28),\n",
    "  (6, \"Salma\", 42);\n",
    "\n",
    "UPDATE persons \n",
    "SET age = age + 10\n",
    "WHERE id = 1;\n",
    "\n",
    "DELETE FROM persons\n",
    "WHERE name = \"Eric\";"
   ]
  },
  {
   "cell_type": "markdown",
   "metadata": {
    "application/vnd.databricks.v1+cell": {
     "cellMetadata": {},
     "inputWidgets": {},
     "nuid": "409d8f89-2567-4ff3-8c79-3a12925bb099",
     "showTitle": false,
     "tableResultSettingsMap": {},
     "title": ""
    }
   },
   "source": [
    "#### Q1 - Querying Delta Lake table\n",
    "\n",
    "Query the data in the **persons** table using **SELECT** statement"
   ]
  },
  {
   "cell_type": "code",
   "execution_count": 0,
   "metadata": {
    "application/vnd.databricks.v1+cell": {
     "cellMetadata": {},
     "inputWidgets": {},
     "nuid": "2aa2ca2e-dfbd-4500-a58f-d955c91b6053",
     "showTitle": false,
     "tableResultSettingsMap": {},
     "title": ""
    }
   },
   "outputs": [],
   "source": [
    "-- Answer\n",
    "SELECT * FROM persons"
   ]
  },
  {
   "cell_type": "markdown",
   "metadata": {
    "application/vnd.databricks.v1+cell": {
     "cellMetadata": {},
     "inputWidgets": {},
     "nuid": "2fa320f9-bc57-4ac3-a80f-b7be34ae5def",
     "showTitle": false,
     "tableResultSettingsMap": {},
     "title": ""
    }
   },
   "source": [
    "#### Q2 - Checking table history\n",
    "\n",
    "Review the history of the table transactions using the **DESCRIBE HISTORY** command"
   ]
  },
  {
   "cell_type": "code",
   "execution_count": 0,
   "metadata": {
    "application/vnd.databricks.v1+cell": {
     "cellMetadata": {},
     "inputWidgets": {},
     "nuid": "9d6ccf45-24fd-44e3-86c1-46a324e2e1c4",
     "showTitle": false,
     "tableResultSettingsMap": {},
     "title": ""
    }
   },
   "outputs": [],
   "source": [
    "-- Answer\n",
    "DESCRIBE HISTORY persons"
   ]
  },
  {
   "cell_type": "markdown",
   "metadata": {
    "application/vnd.databricks.v1+cell": {
     "cellMetadata": {},
     "inputWidgets": {},
     "nuid": "07ca17ce-eca3-45f2-aecc-23243c159e85",
     "showTitle": false,
     "tableResultSettingsMap": {},
     "title": ""
    }
   },
   "source": [
    "#### Q3- Checking table metadata\n",
    "\n",
    "Review the basic metadata information of the table using the **DESCRIBE DETAIL** command"
   ]
  },
  {
   "cell_type": "code",
   "execution_count": 0,
   "metadata": {
    "application/vnd.databricks.v1+cell": {
     "cellMetadata": {},
     "inputWidgets": {},
     "nuid": "ac42abf8-73f2-44c3-a992-8eee2bf88223",
     "showTitle": false,
     "tableResultSettingsMap": {},
     "title": ""
    }
   },
   "outputs": [],
   "source": [
    "--Answer\n",
    "DESCRIBE DETAIL persons"
   ]
  },
  {
   "cell_type": "markdown",
   "metadata": {
    "application/vnd.databricks.v1+cell": {
     "cellMetadata": {},
     "inputWidgets": {},
     "nuid": "c3afa6f9-ef5a-497e-b08a-872b060cc356",
     "showTitle": false,
     "tableResultSettingsMap": {},
     "title": ""
    }
   },
   "source": [
    "#### Q4- Exploring table directory\n",
    "\n",
    "Explore the table directory using the **%fs** magic command.\n",
    "\n",
    "**Hint:** get the table location from the above metadata information"
   ]
  },
  {
   "cell_type": "code",
   "execution_count": 0,
   "metadata": {
    "application/vnd.databricks.v1+cell": {
     "cellMetadata": {},
     "inputWidgets": {},
     "nuid": "7d34f339-b885-4948-a86d-313213c7f76a",
     "showTitle": false,
     "tableResultSettingsMap": {},
     "title": ""
    }
   },
   "outputs": [],
   "source": [
    "%fs ls 'dbfs:/user/hive/warehouse/persons'"
   ]
  },
  {
   "cell_type": "markdown",
   "metadata": {
    "application/vnd.databricks.v1+cell": {
     "cellMetadata": {},
     "inputWidgets": {},
     "nuid": "ec9740b0-0acc-4b30-8cbb-72928e738c60",
     "showTitle": false,
     "tableResultSettingsMap": {},
     "title": ""
    }
   },
   "source": [
    "#### Q5- Exploring the transactions log\n",
    "\n",
    "Explore the **_delta_log** subfolder in the table directory"
   ]
  },
  {
   "cell_type": "code",
   "execution_count": 0,
   "metadata": {
    "application/vnd.databricks.v1+cell": {
     "cellMetadata": {},
     "inputWidgets": {},
     "nuid": "65af657e-d8d3-4764-b933-833232428256",
     "showTitle": false,
     "tableResultSettingsMap": {},
     "title": ""
    }
   },
   "outputs": [],
   "source": [
    "%fs ls 'dbfs:/user/hive/warehouse/persons/_delta_log'"
   ]
  }
 ],
 "metadata": {
  "application/vnd.databricks.v1+notebook": {
   "computePreferences": null,
   "dashboards": [],
   "environmentMetadata": null,
   "inputWidgetPreferences": null,
   "language": "sql",
   "notebookMetadata": {},
   "notebookName": "1.2L Solution - Delta Lake",
   "widgets": {}
  },
  "language_info": {
   "name": "sql"
  }
 },
 "nbformat": 4,
 "nbformat_minor": 0
}