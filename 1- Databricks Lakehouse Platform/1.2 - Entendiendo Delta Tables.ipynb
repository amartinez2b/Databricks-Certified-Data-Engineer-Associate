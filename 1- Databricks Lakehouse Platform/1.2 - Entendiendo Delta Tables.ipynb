{
 "cells": [
  {
   "cell_type": "markdown",
   "id": "43956866",
   "metadata": {},
   "source": [
    "## Creating Delta Lake Tables"
   ]
  },
  {
   "cell_type": "code",
   "execution_count": null,
   "id": "443b8876",
   "metadata": {
    "vscode": {
     "languageId": "sql"
    }
   },
   "outputs": [],
   "source": [
    "%sql\n",
    "USE CATALOG hive_metastore"
   ]
  },
  {
   "cell_type": "code",
   "execution_count": null,
   "id": "ba04002e",
   "metadata": {
    "vscode": {
     "languageId": "sql"
    }
   },
   "outputs": [],
   "source": [
    "%sql\n",
    "CREATE TABLE employees\n",
    "  (id INT, name STRING, salary DOUBLE);"
   ]
  },
  {
   "cell_type": "markdown",
   "id": "832000ad",
   "metadata": {},
   "source": [
    "## Catalog Explorer\n",
    "\n",
    "Check the created **employees** table in the **Catalog** explorer."
   ]
  },
  {
   "cell_type": "markdown",
   "id": "ffe5e55d",
   "metadata": {},
   "source": [
    "## Inserting Data"
   ]
  },
  {
   "cell_type": "code",
   "execution_count": null,
   "id": "4cbdc6f3",
   "metadata": {
    "vscode": {
     "languageId": "sql"
    }
   },
   "outputs": [],
   "source": [
    "%sql\n",
    "-- NOTE: With latest Databricks Runtimes, inserting few records in single transaction is optimized into single data file.\n",
    "-- For this demo, we will insert the records in multiple transactions in order to create 4 data files.\n",
    "\n",
    "INSERT INTO employees\n",
    "VALUES \n",
    "  (1, \"Adam\", 3500.0),\n",
    "  (2, \"Sarah\", 4020.5);\n",
    "\n",
    "INSERT INTO employees\n",
    "VALUES\n",
    "  (3, \"John\", 2999.3),\n",
    "  (4, \"Thomas\", 4000.3);\n",
    "\n",
    "INSERT INTO employees\n",
    "VALUES\n",
    "  (5, \"Anna\", 2500.0);\n",
    "\n",
    "INSERT INTO employees\n",
    "VALUES\n",
    "  (6, \"Kim\", 6200.3)\n",
    "\n",
    "-- NOTE: When executing multiple SQL statements in the same cell, only the last statement's result will be displayed in the cell output."
   ]
  },
  {
   "cell_type": "code",
   "execution_count": null,
   "id": "a81f3cef",
   "metadata": {
    "vscode": {
     "languageId": "sql"
    }
   },
   "outputs": [],
   "source": [
    "%sql\n",
    "SELECT * FROM employees"
   ]
  },
  {
   "cell_type": "markdown",
   "id": "154d2e82",
   "metadata": {},
   "source": [
    "## Exploring Table Metadata"
   ]
  },
  {
   "cell_type": "code",
   "execution_count": null,
   "id": "ef637bb1",
   "metadata": {
    "vscode": {
     "languageId": "sql"
    }
   },
   "outputs": [],
   "source": [
    "%sql\n",
    "DESCRIBE DETAIL employees\n"
   ]
  },
  {
   "cell_type": "markdown",
   "id": "48fa4f81",
   "metadata": {},
   "source": [
    "## Exploring Table Directory"
   ]
  },
  {
   "cell_type": "code",
   "execution_count": null,
   "id": "aa05a2ea",
   "metadata": {
    "vscode": {
     "languageId": "sql"
    }
   },
   "outputs": [],
   "source": [
    "%fs ls 'dbfs:/user/hive/warehouse/employees'"
   ]
  },
  {
   "cell_type": "markdown",
   "id": "5d076f03",
   "metadata": {},
   "source": [
    "## Updating Table"
   ]
  },
  {
   "cell_type": "code",
   "execution_count": null,
   "id": "446ce5b7",
   "metadata": {
    "vscode": {
     "languageId": "sql"
    }
   },
   "outputs": [],
   "source": [
    "%sql\n",
    "UPDATE employees \n",
    "SET salary = salary + 100\n",
    "WHERE name LIKE \"A%\""
   ]
  },
  {
   "cell_type": "code",
   "execution_count": null,
   "id": "0c204816",
   "metadata": {
    "vscode": {
     "languageId": "sql"
    }
   },
   "outputs": [],
   "source": [
    "%sql \n",
    "SELECT * FROM employees"
   ]
  },
  {
   "cell_type": "code",
   "execution_count": null,
   "id": "2be2723d",
   "metadata": {
    "vscode": {
     "languageId": "sql"
    }
   },
   "outputs": [],
   "source": [
    "%fs ls 'dbfs:/user/hive/warehouse/employees'"
   ]
  },
  {
   "cell_type": "code",
   "execution_count": null,
   "id": "61ecd121",
   "metadata": {
    "vscode": {
     "languageId": "sql"
    }
   },
   "outputs": [],
   "source": [
    "%sql\n",
    "DESCRIBE DETAIL employees"
   ]
  },
  {
   "cell_type": "code",
   "execution_count": null,
   "id": "484c495c",
   "metadata": {
    "vscode": {
     "languageId": "sql"
    }
   },
   "outputs": [],
   "source": [
    "%sql \n",
    "SELECT * FROM employees"
   ]
  },
  {
   "cell_type": "markdown",
   "id": "922a24f3",
   "metadata": {},
   "source": [
    "## Exploring Table History"
   ]
  },
  {
   "cell_type": "code",
   "execution_count": null,
   "id": "62aee395",
   "metadata": {
    "vscode": {
     "languageId": "sql"
    }
   },
   "outputs": [],
   "source": [
    "%sql \n",
    "DESCRIBE HISTORY employees"
   ]
  },
  {
   "cell_type": "code",
   "execution_count": null,
   "id": "db9714f5",
   "metadata": {
    "vscode": {
     "languageId": "sql"
    }
   },
   "outputs": [],
   "source": [
    "%fs ls 'dbfs:/user/hive/warehouse/employees/_delta_log'"
   ]
  },
  {
   "cell_type": "code",
   "execution_count": null,
   "id": "1eb1e417",
   "metadata": {
    "vscode": {
     "languageId": "sql"
    }
   },
   "outputs": [],
   "source": [
    "%fs head 'dbfs:/user/hive/warehouse/employees/_delta_log/00000000000000000005.json'"
   ]
  }
 ],
 "metadata": {
  "language_info": {
   "name": "python"
  }
 },
 "nbformat": 4,
 "nbformat_minor": 5
}
