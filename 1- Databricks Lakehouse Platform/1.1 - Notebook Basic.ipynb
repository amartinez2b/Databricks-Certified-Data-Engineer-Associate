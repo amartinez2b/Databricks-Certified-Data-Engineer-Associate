{
 "cells": [
  {
   "cell_type": "code",
   "execution_count": null,
   "id": "76e38cb8",
   "metadata": {},
   "outputs": [],
   "source": [
    "print(\"Hello World!\")"
   ]
  },
  {
   "cell_type": "code",
   "execution_count": null,
   "id": "a10f6fdb",
   "metadata": {
    "vscode": {
     "languageId": "sql"
    }
   },
   "outputs": [],
   "source": [
    "%sql\n",
    "SELECT \"Hello world from SQL!\""
   ]
  },
  {
   "cell_type": "markdown",
   "id": "39b50edf",
   "metadata": {},
   "source": [
    "# Title 1\n",
    "## Title 2\n",
    "### Title 3\n",
    "\n",
    "text with a **bold** and *italicized* in it.\n",
    "\n",
    "Ordered list\n",
    "1. first\n",
    "1. second\n",
    "1. third\n",
    "\n",
    "Unordered list\n",
    "* coffee\n",
    "* tea\n",
    "* milk\n",
    "\n",
    "\n",
    "Images:\n",
    "![Associate-badge](https://www.databricks.com/wp-content/uploads/2022/04/associate-badge-eng.svg)\n",
    "\n",
    "And of course, tables:\n",
    "\n",
    "| user_id | user_name |\n",
    "|---------|-----------|\n",
    "|    1    |    Adam   |\n",
    "|    2    |    Sarah  |\n",
    "|    3    |    John   |\n",
    "\n",
    "Links (or Embedded HTML): <a href=\"https://docs.databricks.com/notebooks/notebooks-manage.html\" target=\"_blank\"> Managing Notebooks documentation</a>"
   ]
  },
  {
   "cell_type": "code",
   "execution_count": null,
   "id": "54b9a0ed",
   "metadata": {
    "vscode": {
     "languageId": "sql"
    }
   },
   "outputs": [],
   "source": [
    "%run ../Includes/Setup"
   ]
  },
  {
   "cell_type": "code",
   "execution_count": null,
   "id": "ae45b216",
   "metadata": {
    "vscode": {
     "languageId": "sql"
    }
   },
   "outputs": [],
   "source": [
    "print(full_name)"
   ]
  },
  {
   "cell_type": "code",
   "execution_count": null,
   "id": "d6f991ba",
   "metadata": {
    "vscode": {
     "languageId": "sql"
    }
   },
   "outputs": [],
   "source": [
    "%fs ls '/databricks-datasets'"
   ]
  },
  {
   "cell_type": "code",
   "execution_count": null,
   "id": "72f4b13f",
   "metadata": {
    "vscode": {
     "languageId": "sql"
    }
   },
   "outputs": [],
   "source": [
    "dbutils.help()"
   ]
  },
  {
   "cell_type": "code",
   "execution_count": null,
   "id": "cbd2b54e",
   "metadata": {
    "vscode": {
     "languageId": "sql"
    }
   },
   "outputs": [],
   "source": [
    "dbutils.fs.help()"
   ]
  },
  {
   "cell_type": "code",
   "execution_count": null,
   "id": "98e65913",
   "metadata": {
    "vscode": {
     "languageId": "sql"
    }
   },
   "outputs": [],
   "source": [
    "files = dbutils.fs.ls('/databricks-datasets')\n",
    "print(files)"
   ]
  },
  {
   "cell_type": "code",
   "execution_count": null,
   "id": "695991de",
   "metadata": {
    "vscode": {
     "languageId": "sql"
    }
   },
   "outputs": [],
   "source": [
    "display(files)"
   ]
  }
 ],
 "metadata": {
  "language_info": {
   "name": "python"
  }
 },
 "nbformat": 4,
 "nbformat_minor": 5
}
