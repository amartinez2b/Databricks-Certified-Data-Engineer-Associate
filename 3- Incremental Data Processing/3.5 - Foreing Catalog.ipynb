{
 "cells": [
  {
   "cell_type": "code",
   "execution_count": 0,
   "metadata": {
    "application/vnd.databricks.v1+cell": {
     "cellMetadata": {},
     "inputWidgets": {},
     "nuid": "02cd992d-fbd1-4a6d-8da1-8432d8209132",
     "showTitle": false,
     "tableResultSettingsMap": {},
     "title": ""
    }
   },
   "outputs": [],
   "source": [
    "db_password = dbutils.secrets.get(\"mysql-secrets\", \"db_password\")\n",
    "print(db_password)"
   ]
  },
  {
   "cell_type": "markdown",
   "metadata": {
    "application/vnd.databricks.v1+cell": {
     "cellMetadata": {},
     "inputWidgets": {},
     "nuid": "d0a8467a-daf5-4a26-ba94-ee9daf7a89e9",
     "showTitle": false,
     "tableResultSettingsMap": {},
     "title": ""
    }
   },
   "source": [
    "## ¿Qué es `CREATE CONNECTION` y para qué sirve?\n",
    "\n",
    "El comando `CREATE CONNECTION` en Databricks SQL se utiliza para definir una conexión segura y reutilizable a fuentes de datos externas, como bases de datos MySQL, PostgreSQL, entre otras. Esta conexión almacena detalles como el host, puerto, usuario y credenciales de acceso, permitiendo que otros objetos (como catálogos externos) accedan a los datos sin necesidad de redefinir la configuración de conexión cada vez.\n",
    "\n",
    "**¿Para qué sirve?**\n",
    "- Centraliza y gestiona las credenciales de acceso de forma segura.\n",
    "- Facilita la integración de datos externos en Databricks.\n",
    "- Permite reutilizar la conexión en múltiples catálogos o consultas.\n",
    "\n",
    "Por ejemplo, puedes crear una conexión a una base de datos MySQL y luego usarla para crear un catálogo externo que te permita consultar tablas remotas directamente desde Databricks."
   ]
  },
  {
   "cell_type": "code",
   "execution_count": 0,
   "metadata": {
    "application/vnd.databricks.v1+cell": {
     "cellMetadata": {
      "byteLimit": 2048000,
      "implicitDf": true,
      "rowLimit": 10000
     },
     "inputWidgets": {},
     "nuid": "6b5eaa16-3f0f-441a-8412-575c5c12b6ca",
     "showTitle": false,
     "tableResultSettingsMap": {},
     "title": ""
    }
   },
   "outputs": [],
   "source": [
    "%sql\n",
    "CREATE CONNECTION mysql_connection\n",
    "TYPE MYSQL\n",
    "OPTIONS (\n",
    "host 'www.bigdataybi.com',\n",
    "port '3306',\n",
    "user 'curso',\n",
    "password secret('mysql-secrets', 'db_password')\n",
    ");"
   ]
  },
  {
   "cell_type": "markdown",
   "metadata": {
    "application/vnd.databricks.v1+cell": {
     "cellMetadata": {},
     "inputWidgets": {},
     "nuid": "0757c153-7090-4e26-be49-c379d7f1041a",
     "showTitle": false,
     "tableResultSettingsMap": {},
     "title": ""
    }
   },
   "source": [
    "## ¿Qué es `FOREIGN CATALOG` y para qué sirve?\n",
    "\n",
    "Un `FOREIGN CATALOG` en Databricks SQL permite acceder a bases de datos externas (como MySQL, PostgreSQL, etc.) directamente desde Databricks, sin necesidad de copiar los datos. Al crear un catálogo externo, puedes consultar tablas remotas como si fueran tablas locales, facilitando la integración y análisis de datos distribuidos.\n",
    "\n",
    "**¿Para qué sirve?**\n",
    "- Permite consultar y analizar datos externos sin moverlos.\n",
    "- Centraliza el acceso a múltiples fuentes de datos desde Databricks.\n",
    "- Facilita la colaboración y el gobierno de datos al exponer fuentes externas como catálogos reutilizables."
   ]
  },
  {
   "cell_type": "code",
   "execution_count": 0,
   "metadata": {
    "application/vnd.databricks.v1+cell": {
     "cellMetadata": {
      "byteLimit": 2048000,
      "implicitDf": true,
      "rowLimit": 10000
     },
     "inputWidgets": {},
     "nuid": "26c17bae-41b7-4ac8-8ede-d0f4bd01c08d",
     "showTitle": false,
     "tableResultSettingsMap": {},
     "title": ""
    }
   },
   "outputs": [],
   "source": [
    "%sql\n",
    "CREATE FOREIGN CATALOG my_mysql_catalog\n",
    "USING CONNECTION mysql_connection;"
   ]
  },
  {
   "cell_type": "code",
   "execution_count": 0,
   "metadata": {
    "application/vnd.databricks.v1+cell": {
     "cellMetadata": {
      "byteLimit": 2048000,
      "implicitDf": true,
      "rowLimit": 10000
     },
     "inputWidgets": {},
     "nuid": "945f1054-edd4-49ce-a7d2-0aedc2a8abc0",
     "showTitle": false,
     "tableResultSettingsMap": {},
     "title": ""
    }
   },
   "outputs": [],
   "source": [
    "%sql\n",
    "DROP CATALOG IF EXISTS my_mysql_catalog CASCADE;\n",
    "DROP CONNECTION mysql_connection;"
   ]
  },
  {
   "cell_type": "markdown",
   "metadata": {
    "application/vnd.databricks.v1+cell": {
     "cellMetadata": {},
     "inputWidgets": {},
     "nuid": "647a7f16-7579-4dcc-b61c-c1a963dab7cb",
     "showTitle": false,
     "tableResultSettingsMap": {},
     "title": ""
    }
   },
   "source": [
    "## Ejercicio practico\n",
    "\n",
    "Ingesta los datos de la base fake desde el catalog foraneo a Unity Catalog o Hive Mestastore"
   ]
  }
 ],
 "metadata": {
  "application/vnd.databricks.v1+notebook": {
   "computePreferences": null,
   "dashboards": [],
   "environmentMetadata": {
    "base_environment": "",
    "environment_version": "4"
   },
   "inputWidgetPreferences": null,
   "language": "python",
   "notebookMetadata": {
    "mostRecentlyExecutedCommandWithImplicitDF": {
     "commandId": 6894785009459473,
     "dataframes": [
      "_sqldf"
     ]
    },
    "pythonIndentUnit": 4
   },
   "notebookName": "3.5 - Foreing Catalog",
   "widgets": {}
  },
  "language_info": {
   "name": "python"
  }
 },
 "nbformat": 4,
 "nbformat_minor": 0
}
