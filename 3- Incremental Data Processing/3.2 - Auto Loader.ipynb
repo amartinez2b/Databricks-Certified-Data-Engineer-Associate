{
 "cells": [
  {
   "cell_type": "markdown",
   "metadata": {
    "application/vnd.databricks.v1+cell": {
     "cellMetadata": {},
     "inputWidgets": {},
     "isMarkdownSandbox": true,
     "nuid": "bafb6d8f-dcfa-4c68-8efe-f189fc07939f",
     "showTitle": false,
     "tableResultSettingsMap": {},
     "title": ""
    }
   },
   "source": [
    "\n",
    "<div  style=\"text-align: center; line-height: 0; padding-top: 9px;\">\n",
    "  <img src=\"https://raw.githubusercontent.com/derar-alhussein/Databricks-Certified-Data-Engineer-Associate/main/Includes/images/bookstore_schema.png\" alt=\"Databricks Learning\" style=\"width: 600\">\n",
    "</div>"
   ]
  },
  {
   "cell_type": "markdown",
   "metadata": {
    "application/vnd.databricks.v1+cell": {
     "cellMetadata": {},
     "inputWidgets": {},
     "nuid": "dcde9b45-c4ea-4c05-9cab-70fd949df00d",
     "showTitle": false,
     "tableResultSettingsMap": {},
     "title": ""
    }
   },
   "source": [
    "# Configurar Serverless\n",
    "\n",
    "Antes de ejecutar el motor Serverless debes cargar las librerías\n",
    "\n",
    "1. Clic en => Environment en el panel de la derecha\n",
    "2. En la sección Dependencies carga el archivo requirements que se encuentra en la raíz del proyecto\n",
    "3. Presiona apply"
   ]
  },
  {
   "cell_type": "markdown",
   "metadata": {
    "application/vnd.databricks.v1+cell": {
     "cellMetadata": {},
     "inputWidgets": {},
     "nuid": "c28e5dc9-7285-4910-97a1-771d7628957f",
     "showTitle": false,
     "tableResultSettingsMap": {},
     "title": ""
    }
   },
   "source": [
    "# Generación de datos en tiempo real\n",
    "Al ejecutar \n",
    "\n",
    "```python\n",
    "parameters = {\"volume_path\": \"/volume/folder\"}\n",
    "dbutils.notebook.run(\"../Includes/GenDataStream\", 3600, parameters)\n",
    "```\n",
    "\n",
    "Usted debe proporcionar la ruta del volumen donde se van a almacenar los datos generados bajo demanda (cada vez que ejecute el comando se van a generar nuevos datos)\n",
    "\n",
    "Para poder crear un volumen siga estas instrucciones:\n",
    "\n",
    "```sql\n",
    "-- Crear un catalogo\n",
    "CREATE CATALOG IF NOT EXISTS [catalogo]\n",
    "-- Crear un esquema \n",
    "CREATE DATABASE IF NOT EXISTS [catalogo].[esquema]\n",
    "-- Crear un volumen\n",
    "CREATE VOLUME IF NOT EXISTS [catalogo].[esquema].[volumen]\n",
    "\n",
    "```\n",
    "\n",
    "Mediante el navegador de catálogos de Databricks ubíquese en el volumen y copie la ruta, y guardelo como valor del widget llamado volume_path\n",
    "\n",
    "Ejemplo:\n",
    "\n",
    "```sh\n",
    "/Volumes/catalogo/esquema/volumen\n",
    "```\n"
   ]
  },
  {
   "cell_type": "code",
   "execution_count": 0,
   "metadata": {
    "application/vnd.databricks.v1+cell": {
     "cellMetadata": {
      "byteLimit": 2048000,
      "rowLimit": 10000
     },
     "inputWidgets": {},
     "nuid": "fcecfa84-acef-4da1-8225-d5b75766f247",
     "showTitle": true,
     "tableResultSettingsMap": {},
     "title": "Crea el parametro de entrada"
    }
   },
   "outputs": [],
   "source": [
    "dbutils.widgets.text(\"volume_path\",\"\")"
   ]
  },
  {
   "cell_type": "code",
   "execution_count": 0,
   "metadata": {
    "application/vnd.databricks.v1+cell": {
     "cellMetadata": {
      "byteLimit": 2048000,
      "rowLimit": 10000
     },
     "inputWidgets": {},
     "nuid": "6dff7760-be91-44dc-ad9a-90c7bc45b188",
     "showTitle": true,
     "tableResultSettingsMap": {},
     "title": "Lee la ruta del volumen"
    }
   },
   "outputs": [],
   "source": [
    "%python\n",
    "volume_path=dbutils.widgets.get(\"volume_path\")\n",
    "if volume_path==\"\":\n",
    "  raise Exception(\"Debe definir una ruta de volumen\")"
   ]
  },
  {
   "cell_type": "code",
   "execution_count": 0,
   "metadata": {
    "application/vnd.databricks.v1+cell": {
     "cellMetadata": {
      "byteLimit": 2048000,
      "rowLimit": 10000
     },
     "inputWidgets": {},
     "nuid": "381fe80f-4ef4-4633-9c64-3ef49b08bbf3",
     "showTitle": true,
     "tableResultSettingsMap": {},
     "title": "Genera datos"
    }
   },
   "outputs": [],
   "source": [
    "dbutils.notebook.run(\"../Includes/GenDataStream\", 3600, {\"volume_path\": volume_path})"
   ]
  },
  {
   "cell_type": "markdown",
   "metadata": {
    "application/vnd.databricks.v1+cell": {
     "cellMetadata": {},
     "inputWidgets": {},
     "nuid": "dc3ccf65-790f-4603-8ed6-7de06af0cb0a",
     "showTitle": false,
     "tableResultSettingsMap": {},
     "title": ""
    }
   },
   "source": [
    "\n",
    "## Exploring The Source Directory"
   ]
  },
  {
   "cell_type": "code",
   "execution_count": 0,
   "metadata": {
    "application/vnd.databricks.v1+cell": {
     "cellMetadata": {
      "byteLimit": 2048000,
      "rowLimit": 10000
     },
     "inputWidgets": {},
     "nuid": "f3776437-b743-4f54-a65f-622287ca084f",
     "showTitle": true,
     "tableResultSettingsMap": {},
     "title": "Mira el contenido de la carpeta"
    }
   },
   "outputs": [],
   "source": [
    "files = dbutils.fs.ls(f\"{volume_path}/orders\")\n",
    "display(files)"
   ]
  },
  {
   "cell_type": "markdown",
   "metadata": {
    "application/vnd.databricks.v1+cell": {
     "cellMetadata": {},
     "inputWidgets": {},
     "nuid": "3dcc1eef-31fd-40e6-8a08-ab587156f701",
     "showTitle": false,
     "tableResultSettingsMap": {},
     "title": ""
    }
   },
   "source": [
    "\n",
    "## Auto Loader"
   ]
  },
  {
   "cell_type": "markdown",
   "metadata": {
    "application/vnd.databricks.v1+cell": {
     "cellMetadata": {},
     "inputWidgets": {},
     "nuid": "2ed1e54c-5d6c-402c-b65e-822a9ac56914",
     "showTitle": false,
     "tableResultSettingsMap": {},
     "title": ""
    }
   },
   "source": [
    "Si usas Serverless no vas a poder realizar ejecuciones continuas. Entonces deberás usar All Purpose o Job Cluster para cambiar el trigger a ejecuciones permanentes como por ejemplo:\n",
    "\n",
    "```python\n",
    ".trigger(processingTime=\"2 seconds\")\n",
    "```"
   ]
  },
  {
   "cell_type": "code",
   "execution_count": 0,
   "metadata": {
    "application/vnd.databricks.v1+cell": {
     "cellMetadata": {
      "byteLimit": 2048000,
      "rowLimit": 10000
     },
     "inputWidgets": {},
     "nuid": "52fb23a7-bf6a-4ce5-ab1e-bb8f58635e29",
     "showTitle": true,
     "tableResultSettingsMap": {},
     "title": "Lee los archivos con Auto-Loader"
    }
   },
   "outputs": [],
   "source": [
    "(spark.readStream\n",
    "        .format(\"cloudFiles\")\n",
    "        .option(\"cloudFiles.format\", \"parquet\")\n",
    "        .option(\"cloudFiles.schemaLocation\",f\"{volume_path}/schema_cache\")\n",
    "        .load(f\"{volume_path}/orders\")\n",
    "      .writeStream\n",
    "        .option(\"checkpointLocation\", f\"{volume_path}/checkpoint\")\n",
    "        .trigger(availableNow=True)\n",
    "        .table(\"orders_updates\")\n",
    ")"
   ]
  },
  {
   "cell_type": "code",
   "execution_count": 0,
   "metadata": {
    "application/vnd.databricks.v1+cell": {
     "cellMetadata": {
      "byteLimit": 2048000,
      "implicitDf": true,
      "rowLimit": 10000
     },
     "inputWidgets": {},
     "nuid": "cea92ae7-d658-4834-b4b6-5b2b4fa2b181",
     "showTitle": true,
     "tableResultSettingsMap": {},
     "title": "Mira los datos en la tabla"
    }
   },
   "outputs": [],
   "source": [
    "%sql\n",
    "SELECT * FROM orders_updates"
   ]
  },
  {
   "cell_type": "code",
   "execution_count": 0,
   "metadata": {
    "application/vnd.databricks.v1+cell": {
     "cellMetadata": {
      "byteLimit": 2048000,
      "implicitDf": true,
      "rowLimit": 10000
     },
     "inputWidgets": {},
     "nuid": "53efd408-395a-44b2-8f8c-27f7e32341eb",
     "showTitle": true,
     "tableResultSettingsMap": {},
     "title": "Cuenta los registros cargados"
    }
   },
   "outputs": [],
   "source": [
    "%sql\n",
    "SELECT count(*) FROM orders_updates"
   ]
  },
  {
   "cell_type": "markdown",
   "metadata": {
    "application/vnd.databricks.v1+cell": {
     "cellMetadata": {},
     "inputWidgets": {},
     "nuid": "dfe4d096-44c3-4caa-910c-88e92c4bb34a",
     "showTitle": false,
     "tableResultSettingsMap": {},
     "title": ""
    }
   },
   "source": [
    "\n",
    "## Landing New Files"
   ]
  },
  {
   "cell_type": "code",
   "execution_count": 0,
   "metadata": {
    "application/vnd.databricks.v1+cell": {
     "cellMetadata": {
      "byteLimit": 2048000,
      "rowLimit": 10000
     },
     "inputWidgets": {},
     "nuid": "5bab176b-e870-4d75-9f2e-7e65a22cc5c4",
     "showTitle": true,
     "tableResultSettingsMap": {},
     "title": "Genera nuevos datos"
    }
   },
   "outputs": [],
   "source": [
    "# Load new data\n",
    "dbutils.notebook.run(\"../Includes/GenDataStream\", 3600, {\"volume_path\": volume_path})"
   ]
  },
  {
   "cell_type": "code",
   "execution_count": 0,
   "metadata": {
    "application/vnd.databricks.v1+cell": {
     "cellMetadata": {
      "byteLimit": 2048000,
      "rowLimit": 10000
     },
     "inputWidgets": {},
     "nuid": "4b31ad0e-9621-40ec-8f5c-b74f918e370d",
     "showTitle": true,
     "tableResultSettingsMap": {},
     "title": "Mira un nuevo parquet en la carpeta"
    }
   },
   "outputs": [],
   "source": [
    "files = dbutils.fs.ls(f\"{volume_path}/orders\")\n",
    "display(files)"
   ]
  },
  {
   "cell_type": "code",
   "execution_count": 0,
   "metadata": {
    "application/vnd.databricks.v1+cell": {
     "cellMetadata": {
      "byteLimit": 2048000,
      "rowLimit": 10000
     },
     "inputWidgets": {},
     "nuid": "455b3f2a-a73a-4447-95f7-bf3406b84304",
     "showTitle": true,
     "tableResultSettingsMap": {},
     "title": "Carga los nuevos datos con Auto-Loader"
    }
   },
   "outputs": [],
   "source": [
    "(spark.readStream\n",
    "        .format(\"cloudFiles\")\n",
    "        .option(\"cloudFiles.format\", \"parquet\")\n",
    "        .option(\"cloudFiles.schemaLocation\",f\"{volume_path}/schema_cache\")\n",
    "        .load(f\"{volume_path}/orders\")\n",
    "      .writeStream\n",
    "        .option(\"checkpointLocation\", f\"{volume_path}/checkpoint\")\n",
    "        .trigger(availableNow=True)\n",
    "        .table(\"orders_updates\")\n",
    ")"
   ]
  },
  {
   "cell_type": "code",
   "execution_count": 0,
   "metadata": {
    "application/vnd.databricks.v1+cell": {
     "cellMetadata": {
      "byteLimit": 2048000,
      "implicitDf": true,
      "rowLimit": 10000
     },
     "inputWidgets": {},
     "nuid": "3929b69b-9061-43ba-a3b7-d7fe9422e3d6",
     "showTitle": true,
     "tableResultSettingsMap": {},
     "title": "Los registros deben aumentar"
    }
   },
   "outputs": [],
   "source": [
    "%sql\n",
    "SELECT count(*) FROM orders_updates"
   ]
  },
  {
   "cell_type": "markdown",
   "metadata": {
    "application/vnd.databricks.v1+cell": {
     "cellMetadata": {},
     "inputWidgets": {},
     "nuid": "5fa3f35f-4cf1-42db-903d-755f4551c832",
     "showTitle": false,
     "tableResultSettingsMap": {},
     "title": ""
    }
   },
   "source": [
    "\n",
    "## Exploring Table History"
   ]
  },
  {
   "cell_type": "code",
   "execution_count": 0,
   "metadata": {
    "application/vnd.databricks.v1+cell": {
     "cellMetadata": {
      "byteLimit": 2048000,
      "implicitDf": true,
      "rowLimit": 10000
     },
     "inputWidgets": {},
     "nuid": "43e39987-178c-4d0c-8954-403ebdd93b03",
     "showTitle": true,
     "tableResultSettingsMap": {},
     "title": "Mira el historial de cambios en la tabla"
    }
   },
   "outputs": [],
   "source": [
    "%sql\n",
    "DESCRIBE HISTORY orders_updates"
   ]
  },
  {
   "cell_type": "markdown",
   "metadata": {
    "application/vnd.databricks.v1+cell": {
     "cellMetadata": {},
     "inputWidgets": {},
     "nuid": "c860f38f-6857-4365-ac03-5701417c3f94",
     "showTitle": false,
     "tableResultSettingsMap": {},
     "title": ""
    }
   },
   "source": [
    "\n",
    "## Cleaning Up"
   ]
  },
  {
   "cell_type": "code",
   "execution_count": 0,
   "metadata": {
    "application/vnd.databricks.v1+cell": {
     "cellMetadata": {
      "byteLimit": 2048000,
      "implicitDf": true,
      "rowLimit": 10000
     },
     "inputWidgets": {},
     "nuid": "6a951d9c-f6a9-4530-ac3a-56a86a423569",
     "showTitle": true,
     "tableResultSettingsMap": {},
     "title": "Borra la tabla"
    }
   },
   "outputs": [],
   "source": [
    "%sql\n",
    "DROP TABLE orders_updates"
   ]
  },
  {
   "cell_type": "code",
   "execution_count": 0,
   "metadata": {
    "application/vnd.databricks.v1+cell": {
     "cellMetadata": {
      "byteLimit": 2048000,
      "rowLimit": 10000
     },
     "inputWidgets": {},
     "nuid": "4e76b5d1-c98d-4a6b-b7f7-d72689d4d09b",
     "showTitle": true,
     "tableResultSettingsMap": {},
     "title": "Borra las carpetas"
    }
   },
   "outputs": [],
   "source": [
    "dbutils.fs.rm(f\"{volume_path}/schema_cache\", True)\n",
    "dbutils.fs.rm(f\"{volume_path}/checkpoint\", True)\n",
    "dbutils.fs.rm(f\"{volume_path}/orders\", True)"
   ]
  }
 ],
 "metadata": {
  "application/vnd.databricks.v1+notebook": {
   "computePreferences": null,
   "dashboards": [],
   "environmentMetadata": null,
   "inputWidgetPreferences": null,
   "language": "python",
   "notebookMetadata": {
    "mostRecentlyExecutedCommandWithImplicitDF": {
     "commandId": 8039538743028177,
     "dataframes": [
      "_sqldf"
     ]
    },
    "pythonIndentUnit": 4
   },
   "notebookName": "3.2 - Auto Loader",
   "widgets": {
    "volume_path": {
     "currentValue": "/Volumes/demo/dwh/temporal/realtime/",
     "nuid": "fff94666-ef44-4fe8-b767-1c3ced655e12",
     "typedWidgetInfo": {
      "autoCreated": false,
      "defaultValue": "",
      "label": null,
      "name": "volume_path",
      "options": {
       "widgetDisplayType": "Text",
       "validationRegex": null
      },
      "parameterDataType": "String"
     },
     "widgetInfo": {
      "widgetType": "text",
      "defaultValue": "",
      "label": null,
      "name": "volume_path",
      "options": {
       "widgetType": "text",
       "autoCreated": null,
       "validationRegex": null
      }
     }
    }
   }
  },
  "language_info": {
   "name": "python"
  }
 },
 "nbformat": 4,
 "nbformat_minor": 0
}
