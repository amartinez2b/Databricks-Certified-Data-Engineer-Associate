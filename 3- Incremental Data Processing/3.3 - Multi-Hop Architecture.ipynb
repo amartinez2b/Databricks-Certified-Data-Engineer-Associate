{
 "cells": [
  {
   "cell_type": "markdown",
   "metadata": {
    "application/vnd.databricks.v1+cell": {
     "cellMetadata": {},
     "inputWidgets": {},
     "isMarkdownSandbox": true,
     "nuid": "a4040f27-3be8-4176-9370-40f45efcd664",
     "showTitle": false,
     "tableResultSettingsMap": {},
     "title": ""
    }
   },
   "source": [
    "\n",
    "<div  style=\"text-align: center; line-height: 0; padding-top: 9px;\">\n",
    "  <img src=\"https://miro.medium.com/v2/resize:fit:720/format:webp/1*7uD66fpC6Zp8W8spnKL1nQ.png\" alt=\"Databricks Learning\" style=\"width: 600\">\n",
    "</div>"
   ]
  },
  {
   "cell_type": "markdown",
   "metadata": {
    "application/vnd.databricks.v1+cell": {
     "cellMetadata": {},
     "inputWidgets": {},
     "nuid": "8f90e381-4677-47f4-b39c-dd519a4f0f64",
     "showTitle": false,
     "tableResultSettingsMap": {},
     "title": ""
    }
   },
   "source": [
    "%md\n",
    "# Configurar Serverless\n",
    "\n",
    "Antes de ejecutar el motor Serverless debes cargar las librerías\n",
    "\n",
    "1. Clic en => Environment en el panel de la derecha\n",
    "2. En la sección Dependencies carga el archivo requirements que se encuentra en la raíz del proyecto\n",
    "3. Presiona apply"
   ]
  },
  {
   "cell_type": "markdown",
   "metadata": {
    "application/vnd.databricks.v1+cell": {
     "cellMetadata": {},
     "inputWidgets": {},
     "nuid": "6dcb2aa5-2b69-4a5b-9b4c-37f75d967f1f",
     "showTitle": false,
     "tableResultSettingsMap": {},
     "title": ""
    }
   },
   "source": [
    "%md\n",
    "# Generación de datos \n",
    "Al ejecutar \n",
    "\n",
    "```python\n",
    "parameters = {\"volume_path\": \"/volume/folder\"}\n",
    "dbutils.notebook.run(\"../Includes/GenDataStream\", 3600, parameters)\n",
    "```\n",
    "\n",
    "Usted debe proporcionar la ruta del volumen donde se van a almacenar los datos generados bajo demanda (cada vez que ejecute el comando se van a generar nuevos datos)\n",
    "\n",
    "Para poder crear un volumen siga estas instrucciones:\n",
    "\n",
    "```sql\n",
    "-- Crear un catalogo\n",
    "CREATE CATALOG IF NOT EXISTS [catalogo]\n",
    "-- Crear un esquema \n",
    "CREATE DATABASE IF NOT EXISTS [catalogo].[esquema]\n",
    "-- Crear un volumen\n",
    "CREATE VOLUME IF NOT EXISTS [catalogo].[esquema].[volumen]\n",
    "\n",
    "```\n",
    "\n",
    "Mediante el navegador de catálogos de Databricks ubíquese en el volumen y copie la ruta, y guardelo como valor del widget llamado volume_path\n",
    "\n",
    "Ejemplo:\n",
    "\n",
    "```sh\n",
    "/Volumes/catalogo/esquema/volumen\n",
    "```\n"
   ]
  },
  {
   "cell_type": "code",
   "execution_count": 0,
   "metadata": {
    "application/vnd.databricks.v1+cell": {
     "cellMetadata": {
      "byteLimit": 2048000,
      "rowLimit": 10000
     },
     "inputWidgets": {},
     "nuid": "07f47f53-da25-47dc-9ae7-3e7074dafffb",
     "showTitle": false,
     "tableResultSettingsMap": {},
     "title": ""
    }
   },
   "outputs": [],
   "source": [
    "dbutils.widgets.text(\"volume_path\",\"\")"
   ]
  },
  {
   "cell_type": "code",
   "execution_count": 0,
   "metadata": {
    "application/vnd.databricks.v1+cell": {
     "cellMetadata": {
      "byteLimit": 2048000,
      "rowLimit": 10000
     },
     "inputWidgets": {},
     "nuid": "83e44aac-f6c9-4a8c-bd31-955b92f76761",
     "showTitle": false,
     "tableResultSettingsMap": {},
     "title": ""
    }
   },
   "outputs": [],
   "source": [
    "volume_path=dbutils.widgets.get(\"volume_path\")"
   ]
  },
  {
   "cell_type": "code",
   "execution_count": 0,
   "metadata": {
    "application/vnd.databricks.v1+cell": {
     "cellMetadata": {
      "byteLimit": 2048000,
      "rowLimit": 10000
     },
     "inputWidgets": {},
     "nuid": "d8900c49-df12-43ef-bbfe-3a183dbc039f",
     "showTitle": false,
     "tableResultSettingsMap": {},
     "title": ""
    }
   },
   "outputs": [],
   "source": [
    "dbutils.notebook.run(\"../Includes/GenMedallion\", 3600, {\"volume_path\": volume_path})"
   ]
  },
  {
   "cell_type": "markdown",
   "metadata": {
    "application/vnd.databricks.v1+cell": {
     "cellMetadata": {},
     "inputWidgets": {},
     "nuid": "6bfe623e-e818-4512-b67a-8faa71f45ec1",
     "showTitle": false,
     "tableResultSettingsMap": {},
     "title": ""
    }
   },
   "source": [
    "\n",
    "## Exploring The Source dDirectory"
   ]
  },
  {
   "cell_type": "code",
   "execution_count": 0,
   "metadata": {
    "application/vnd.databricks.v1+cell": {
     "cellMetadata": {
      "byteLimit": 2048000,
      "rowLimit": 10000
     },
     "inputWidgets": {},
     "nuid": "78077e89-21e5-495c-b89b-869aa8a21b05",
     "showTitle": false,
     "tableResultSettingsMap": {},
     "title": ""
    }
   },
   "outputs": [],
   "source": [
    "files = dbutils.fs.ls(f\"{volume_path}/medallion\")\n",
    "display(files)"
   ]
  },
  {
   "cell_type": "markdown",
   "metadata": {
    "application/vnd.databricks.v1+cell": {
     "cellMetadata": {},
     "inputWidgets": {},
     "nuid": "ca318bb8-1929-4136-ad70-8f042152cc79",
     "showTitle": false,
     "tableResultSettingsMap": {},
     "title": ""
    }
   },
   "source": [
    "\n",
    "## Auto Loader"
   ]
  },
  {
   "cell_type": "code",
   "execution_count": 0,
   "metadata": {
    "application/vnd.databricks.v1+cell": {
     "cellMetadata": {
      "byteLimit": 2048000,
      "rowLimit": 10000
     },
     "inputWidgets": {},
     "nuid": "af9196ce-119c-4693-89d8-3e6f68e08d9c",
     "showTitle": false,
     "tableResultSettingsMap": {},
     "title": ""
    }
   },
   "outputs": [],
   "source": [
    "(spark.readStream\n",
    "    .format(\"cloudFiles\")\n",
    "    .option(\"cloudFiles.format\", \"parquet\")\n",
    "    .option(\"cloudFiles.schemaLocation\", f\"{volume_path}/schema_cache\")\n",
    "    .load(f\"{volume_path}/medallion/clientes\")\n",
    "    .createOrReplaceTempView(\"clientes_raw\"))"
   ]
  },
  {
   "cell_type": "markdown",
   "metadata": {
    "application/vnd.databricks.v1+cell": {
     "cellMetadata": {},
     "inputWidgets": {},
     "nuid": "7ea3e0dc-e054-41fc-89f0-550dcfce0b23",
     "showTitle": false,
     "tableResultSettingsMap": {},
     "title": ""
    }
   },
   "source": [
    "\n",
    "## Enriching Raw Data"
   ]
  },
  {
   "cell_type": "code",
   "execution_count": 0,
   "metadata": {
    "application/vnd.databricks.v1+cell": {
     "cellMetadata": {
      "byteLimit": 2048000,
      "implicitDf": true,
      "rowLimit": 10000
     },
     "inputWidgets": {},
     "nuid": "4b860985-1c41-4eff-9067-bfc227fa4008",
     "showTitle": false,
     "tableResultSettingsMap": {},
     "title": ""
    }
   },
   "outputs": [],
   "source": [
    "%sql\n",
    "CREATE OR REPLACE TEMPORARY VIEW clientes_tmp AS (\n",
    "  SELECT *, current_timestamp() arrival_time, input_file_name() source_file\n",
    "  FROM clientes_raw\n",
    ")"
   ]
  },
  {
   "cell_type": "markdown",
   "metadata": {
    "application/vnd.databricks.v1+cell": {
     "cellMetadata": {},
     "inputWidgets": {},
     "nuid": "11641473-04c5-456a-bd4c-4fbb81cb8f43",
     "showTitle": false,
     "tableResultSettingsMap": {},
     "title": ""
    }
   },
   "source": [
    "## Creating Bronze Table"
   ]
  },
  {
   "cell_type": "code",
   "execution_count": 0,
   "metadata": {
    "application/vnd.databricks.v1+cell": {
     "cellMetadata": {
      "byteLimit": 2048000,
      "rowLimit": 10000
     },
     "inputWidgets": {},
     "nuid": "50cd992b-c2bd-4a0d-a933-97a0efe4c801",
     "showTitle": false,
     "tableResultSettingsMap": {},
     "title": ""
    }
   },
   "outputs": [],
   "source": [
    "(spark.table(\"clientes_tmp\")\n",
    "      .writeStream\n",
    "      .format(\"delta\")\n",
    "      .option(\"checkpointLocation\", f\"{volume_path}/checkpoints/clientes_bronze\")\n",
    "      .outputMode(\"append\")\n",
    "      .trigger(availableNow=True)\n",
    "      .table(\"clientes_bronze\"))"
   ]
  },
  {
   "cell_type": "code",
   "execution_count": 0,
   "metadata": {
    "application/vnd.databricks.v1+cell": {
     "cellMetadata": {
      "byteLimit": 2048000,
      "implicitDf": true,
      "rowLimit": 10000
     },
     "inputWidgets": {},
     "nuid": "08b48a55-e9ad-4831-87c0-6af1ca7a8c57",
     "showTitle": false,
     "tableResultSettingsMap": {},
     "title": ""
    }
   },
   "outputs": [],
   "source": [
    "%sql\n",
    "SELECT * FROM clientes_bronze"
   ]
  },
  {
   "cell_type": "markdown",
   "metadata": {
    "application/vnd.databricks.v1+cell": {
     "cellMetadata": {},
     "inputWidgets": {},
     "nuid": "8f017d23-c1cd-4084-b52d-f9823ddc2bf7",
     "showTitle": false,
     "tableResultSettingsMap": {},
     "title": ""
    }
   },
   "source": [
    "## Creating Silver Table"
   ]
  },
  {
   "cell_type": "code",
   "execution_count": 0,
   "metadata": {
    "application/vnd.databricks.v1+cell": {
     "cellMetadata": {
      "byteLimit": 2048000,
      "rowLimit": 10000
     },
     "inputWidgets": {},
     "nuid": "f243f971-5b4e-419f-ade7-7febea66fbea",
     "showTitle": false,
     "tableResultSettingsMap": {},
     "title": ""
    }
   },
   "outputs": [],
   "source": [
    "from databricks.sdk import WorkspaceClient\n",
    "from databricks.labs.dqx.engine import DQEngine\n",
    "from databricks.labs.dqx.rule import DQDatasetRule, Criticality\n",
    "from databricks.labs.dqx import check_funcs\n",
    "import yaml"
   ]
  },
  {
   "cell_type": "markdown",
   "metadata": {
    "application/vnd.databricks.v1+cell": {
     "cellMetadata": {},
     "inputWidgets": {},
     "nuid": "83e3f38e-7d05-4129-b978-ce8464b8eb5d",
     "showTitle": false,
     "tableResultSettingsMap": {},
     "title": ""
    }
   },
   "source": [
    "Aplica 3 reglas de calidad de datos\n",
    "- el id debe ser > 1\n",
    "- El correo debe cumplir con la expresión regular\n",
    "- la fecha de nacimiento no puede ser mayor a la fecha actual\n",
    "\n",
    "\n",
    "Ejemplos: https://github.com/databrickslabs/dqx/blob/main/demos/dqx_manufacturing_demo.py"
   ]
  },
  {
   "cell_type": "code",
   "execution_count": 0,
   "metadata": {
    "application/vnd.databricks.v1+cell": {
     "cellMetadata": {
      "byteLimit": 2048000,
      "rowLimit": 10000
     },
     "inputWidgets": {},
     "nuid": "683cc46f-6524-4099-8321-e7070a182cb4",
     "showTitle": false,
     "tableResultSettingsMap": {},
     "title": ""
    }
   },
   "outputs": [],
   "source": [
    "checks_from_yaml = yaml.safe_load(\"\"\"\n",
    "- criticality: error\n",
    "  check:\n",
    "    function: sql_expression\n",
    "    arguments:\n",
    "      expression: (id > 1)\n",
    "      msg: id must have values grather than 0\n",
    "      name: pk positive\n",
    "      negate: false\n",
    "- criticality: error\n",
    "  check:\n",
    "    function: regex_match\n",
    "    arguments:\n",
    "      column: correos\n",
    "      regex: '^[A-Za-z0-9._%+-]+@[A-Za-z0-9.-]+\\.[A-Za-z]{2,}$'\n",
    "- criticality: warn\n",
    "  check:\n",
    "    function: is_not_in_future\n",
    "    arguments:\n",
    "      column: fecha_nacimiento\n",
    "      offset: 0\n",
    "\"\"\")\n",
    "ws = WorkspaceClient()\n",
    "dq_engine = DQEngine(ws)\n",
    "status = DQEngine.validate_checks(checks_from_yaml)\n",
    "print(f\"[INFO] Check rules {status}\")\n",
    "df_clientes = spark.table(\"clientes_bronze\")\n",
    "clientes_valid_df, clientes_invalid_df = dq_engine.apply_checks_by_metadata_and_split(df_clientes, checks_from_yaml)\n",
    "display(clientes_valid_df)\n",
    "display(clientes_invalid_df)"
   ]
  },
  {
   "cell_type": "code",
   "execution_count": 0,
   "metadata": {
    "application/vnd.databricks.v1+cell": {
     "cellMetadata": {
      "byteLimit": 2048000,
      "rowLimit": 10000
     },
     "inputWidgets": {},
     "nuid": "8e2bdbb0-72f9-49c0-bb4d-9398f9f3326b",
     "showTitle": false,
     "tableResultSettingsMap": {},
     "title": ""
    }
   },
   "outputs": [],
   "source": [
    "clientes_valid_df.write.mode(\"overwrite\").format(\"delta\").saveAsTable(\"clientes_silver\")"
   ]
  },
  {
   "cell_type": "markdown",
   "metadata": {
    "application/vnd.databricks.v1+cell": {
     "cellMetadata": {},
     "inputWidgets": {},
     "nuid": "ee04636b-461e-4085-a044-15101dd59318",
     "showTitle": false,
     "tableResultSettingsMap": {},
     "title": ""
    }
   },
   "source": [
    "## Creating Gold Table"
   ]
  },
  {
   "cell_type": "markdown",
   "metadata": {
    "application/vnd.databricks.v1+cell": {
     "cellMetadata": {},
     "inputWidgets": {},
     "nuid": "709599a0-482e-4a51-ad65-ac7abff4ab3c",
     "showTitle": false,
     "tableResultSettingsMap": {},
     "title": ""
    }
   },
   "source": [
    "Para generar la tabla de Gold, es necesario que unas todas las tablas de esta forma\n",
    "- clientes_silver.id = ventas_silver.customer_id\n",
    "- productos_silver.id_product = ventas_silver.id_product\n",
    "\n",
    "La tabla resultante debe llamarse comercial_gold y deberá tener los campos:\n",
    "\n",
    "- id_order\n",
    "- customer_id,\n",
    "- id_product\n",
    "- nombre\n",
    "- genero\n",
    "- fecha_nacimiento\n",
    "- correos\n",
    "- nombre_producto,\n",
    "- categoria\n",
    "- valor_unitario\n",
    "- valor_descuento\n",
    "- unidades\n",
    "- (valor_unitario * unidades * (1-valor_descuento)) as total\n",
    "\n",
    "Finalmente genera una tabla con el valor total vendido por categorias"
   ]
  },
  {
   "cell_type": "markdown",
   "metadata": {
    "application/vnd.databricks.v1+cell": {
     "cellMetadata": {},
     "inputWidgets": {},
     "nuid": "9b0bcb7b-58fd-430b-875c-f0528b7e543d",
     "showTitle": false,
     "tableResultSettingsMap": {},
     "title": ""
    }
   },
   "source": [
    "\n",
    "## Stopping active streams"
   ]
  },
  {
   "cell_type": "code",
   "execution_count": 0,
   "metadata": {
    "application/vnd.databricks.v1+cell": {
     "cellMetadata": {},
     "inputWidgets": {},
     "nuid": "3ccabfad-ab33-4733-bb2a-496b6e309a04",
     "showTitle": false,
     "tableResultSettingsMap": {},
     "title": ""
    }
   },
   "outputs": [],
   "source": [
    "for s in spark.streams.active:\n",
    "    print(\"Stopping stream: \" + s.id)\n",
    "    s.stop()\n",
    "    s.awaitTermination()"
   ]
  }
 ],
 "metadata": {
  "application/vnd.databricks.v1+notebook": {
   "computePreferences": {
    "hardware": {
     "accelerator": null,
     "gpuPoolId": null,
     "memory": null
    }
   },
   "dashboards": [],
   "environmentMetadata": {
    "base_environment": "",
    "dependencies": [
     "-r /Workspace/Users/agustin.martinez@bigdataybi.com/Databricks-Certified-Data-Engineer-Associate/requirements.txt"
    ],
    "environment_version": "2"
   },
   "inputWidgetPreferences": null,
   "language": "python",
   "notebookMetadata": {
    "mostRecentlyExecutedCommandWithImplicitDF": {
     "commandId": 4834008901701272,
     "dataframes": [
      "_sqldf"
     ]
    },
    "pythonIndentUnit": 4
   },
   "notebookName": "3.3 - Multi-Hop Architecture",
   "widgets": {
    "volume_path": {
     "currentValue": "/Volumes/demo/dwh/temporal",
     "nuid": "11ff6435-f861-4255-921a-9be96c08a0a0",
     "typedWidgetInfo": {
      "autoCreated": false,
      "defaultValue": "",
      "label": null,
      "name": "volume_path",
      "options": {
       "widgetDisplayType": "Text",
       "validationRegex": null
      },
      "parameterDataType": "String"
     },
     "widgetInfo": {
      "widgetType": "text",
      "defaultValue": "",
      "label": null,
      "name": "volume_path",
      "options": {
       "widgetType": "text",
       "autoCreated": null,
       "validationRegex": null
      }
     }
    }
   }
  },
  "language_info": {
   "name": "python"
  }
 },
 "nbformat": 4,
 "nbformat_minor": 0
}
