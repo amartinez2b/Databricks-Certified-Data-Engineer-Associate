{
 "cells": [
  {
   "cell_type": "code",
   "execution_count": 0,
   "metadata": {
    "application/vnd.databricks.v1+cell": {
     "cellMetadata": {
      "byteLimit": 2048000,
      "rowLimit": 10000
     },
     "inputWidgets": {},
     "nuid": "93ccc421-dd16-487a-b807-6bb9d58bf850",
     "showTitle": false,
     "tableResultSettingsMap": {},
     "title": ""
    }
   },
   "outputs": [],
   "source": [
    "db_host = \"www.bigdataybi.com\"\n",
    "db_port = 3306 \n",
    "db_name = \"farmafake\"\n",
    "db_user = \"curso\"\n",
    "db_password = dbutils.secrets.get(scope=\"mysql-secrets\", key=\"db_password\")\n",
    "tables = [\n",
    "    \"customers\",\n",
    "    \"products\",\n",
    "    \"stores\",\n",
    "    \"invoice_header\",\n",
    "    \"invoice_details\"\n",
    "]\n",
    "for table_name in tables:\n",
    "    df = spark.read.format(\"jdbc\").options(\n",
    "        url=f\"jdbc:mysql://{db_host}:{db_port}/{db_name}\",\n",
    "        dbtable=f\"{db_name}.{table_name}\",\n",
    "        user=db_user,\n",
    "        password=db_password\n",
    "    ).load()\n",
    "    df.createOrReplaceTempView(table_name)"
   ]
  },
  {
   "cell_type": "code",
   "execution_count": 0,
   "metadata": {
    "application/vnd.databricks.v1+cell": {
     "cellMetadata": {
      "byteLimit": 2048000,
      "implicitDf": true,
      "rowLimit": 10000
     },
     "inputWidgets": {},
     "nuid": "b783d9c9-97a5-4df2-a31e-6db5dfc179d9",
     "showTitle": false,
     "tableResultSettingsMap": {
      "0": {
       "dataGridStateBlob": "{\"version\":1,\"tableState\":{\"columnPinning\":{\"left\":[\"#row_number#\"],\"right\":[]},\"columnSizing\":{},\"columnVisibility\":{}},\"settings\":{\"columns\":{}},\"syncTimestamp\":1761525050467}",
       "filterBlob": null,
       "queryPlanFiltersBlob": null,
       "tableResultIndex": 0
      }
     },
     "title": ""
    }
   },
   "outputs": [],
   "source": [
    "%sql\n",
    "CREATE OR REPLACE TABLE main.default.sales\n",
    "SELECT \n",
    "ih.doc_id,\n",
    "ih.doc_code,\n",
    "ih.doc_type,\n",
    "ih.store_id,\n",
    "ih.customer_id,\n",
    "ih.doc_date,\n",
    "di.detail_id,\n",
    "di.product_id,\n",
    "di.quantity,\n",
    "di.unit_price,\n",
    "di.discount_percent,\n",
    "(di.quantity * di.unit_price) - ((di.quantity * di.unit_price)*di.discount_percent/100) as total_mount,\n",
    "c.customer_name,\n",
    "c.date_birthday,\n",
    "c.email,\n",
    "c.genero,\n",
    "c.telephone,\n",
    "p.product_name,\n",
    "p.category,\n",
    "year(ih.doc_date) as anio,\n",
    "month(ih.doc_date) as mes,\n",
    "day(ih.doc_date) as dia\n",
    "FROM invoice_header ih \n",
    "INNER JOIN invoice_details di ON ih.doc_id = di.doc_id\n",
    "INNER JOIN customers c ON ih.customer_id = c.customer_id\n",
    "INNER JOIN products p ON di.product_id = p.product_id"
   ]
  },
  {
   "cell_type": "code",
   "execution_count": 0,
   "metadata": {
    "application/vnd.databricks.v1+cell": {
     "cellMetadata": {
      "byteLimit": 2048000,
      "implicitDf": true,
      "rowLimit": 10000
     },
     "inputWidgets": {},
     "nuid": "4fda81a8-efb0-461b-9904-69d13d490228",
     "showTitle": false,
     "tableResultSettingsMap": {},
     "title": ""
    }
   },
   "outputs": [],
   "source": [
    "# Nombre completo de la tabla\n",
    "table_name = \"main.default.sales\"\n",
    "\n",
    "# Diccionario de columnas y sus descripciones\n",
    "column_descriptions = {\n",
    "    \"doc_id\": \"Identificador único de la factura (UUID).\",\n",
    "    \"doc_code\": \"Código interno del documento con formato tipo 001-010-XXXXXXXXX.\",\n",
    "    \"doc_type\": \"Tipo de documento: FA (Factura) o NC (Nota de Crédito).\",\n",
    "    \"store_id\": \"Identificador de la tienda donde se realizó la venta.\",\n",
    "    \"customer_id\": \"Identificador del cliente asociado a la factura.\",\n",
    "    \"doc_date\": \"Fecha y hora de emisión de la factura.\",\n",
    "    \"detail_id\": \"Identificador único del detalle del producto dentro de la factura.\",\n",
    "    \"product_id\": \"Identificador del producto facturado.\",\n",
    "    \"quantity\": \"Cantidad del producto vendida en el detalle.\",\n",
    "    \"unit_price\": \"Precio unitario del producto en el momento de la venta.\",\n",
    "    \"discount_percent\": \"Porcentaje de descuento aplicado al producto.\",\n",
    "    \"customer_name\": \"Nombre completo del cliente.\",\n",
    "    \"date_birthday\": \"Fecha de nacimiento del cliente.\",\n",
    "    \"email\": \"Correo electrónico del cliente.\",\n",
    "    \"genero\": \"Género del cliente (masculino/femenino).\",\n",
    "    \"telephone\": \"Número de teléfono del cliente.\",\n",
    "    \"product_name\": \"Nombre comercial del producto.\",\n",
    "    \"category\": \"Categoría o tipo del producto (por ejemplo, Antibióticos, Vitaminas, etc.).\",\n",
    "    \"total_mount\":\"Valor total de la venta por producto\",\n",
    "    \"anio\":\"Año de la venta\",\n",
    "    \"mes\":\"Mes de la venta\",\n",
    "    \"dia\": \"Dia de la venta\"\n",
    "}\n",
    "\n",
    "# Ejecutar los ALTER TABLE para cada columna\n",
    "for col, comment in column_descriptions.items():\n",
    "    query = f\"COMMENT ON COLUMN {table_name}.{col} IS '{comment}'\"\n",
    "    spark.sql(query)\n",
    "    print(f\"[INFO] Comentando la columna {col}\")\n",
    "print(\"✅ Todas las descripciones de columnas se han agregado correctamente.\")"
   ]
  },
  {
   "cell_type": "markdown",
   "metadata": {
    "application/vnd.databricks.v1+cell": {
     "cellMetadata": {},
     "inputWidgets": {},
     "nuid": "ce03d70f-8821-4c82-a51d-9cb8e88b9aed",
     "showTitle": false,
     "tableResultSettingsMap": {},
     "title": ""
    }
   },
   "source": [
    "# Pregunta a la IA\n",
    "\n",
    "¿Cuánto se ha vendido por Año?"
   ]
  },
  {
   "cell_type": "code",
   "execution_count": 0,
   "metadata": {
    "application/vnd.databricks.v1+cell": {
     "cellMetadata": {
      "byteLimit": 2048000,
      "implicitDf": true,
      "rowLimit": 10000
     },
     "inputWidgets": {},
     "nuid": "7b674f63-e8a7-4e81-849a-fce7873d4c02",
     "showTitle": false,
     "tableResultSettingsMap": {},
     "title": ""
    }
   },
   "outputs": [],
   "source": [
    "%sql\n",
    "SELECT \n",
    "anio,\n",
    "SUM(total_mount) as total_mount\n",
    "FROM main.default.sales\n",
    "GROUP BY anio\n",
    "ORDER BY anio"
   ]
  },
  {
   "cell_type": "markdown",
   "metadata": {
    "application/vnd.databricks.v1+cell": {
     "cellMetadata": {},
     "inputWidgets": {},
     "nuid": "891fb94b-263f-4f8b-ac12-a2f813c82c28",
     "showTitle": false,
     "tableResultSettingsMap": {},
     "title": ""
    }
   },
   "source": [
    "# Pregunta a la IA por el API\n",
    "\n",
    "Para esto necesitarás:\n",
    "- space_id: Es el codigo que se genera al abrir una conversación con Genie. Genie > New > Add your table > Settings > Space Id (Copy)\n",
    "- access_token: Generalo desde tu espacio personal. User > Settings > Developer > "
   ]
  },
  {
   "cell_type": "code",
   "execution_count": 0,
   "metadata": {
    "application/vnd.databricks.v1+cell": {
     "cellMetadata": {
      "byteLimit": 2048000,
      "rowLimit": 10000
     },
     "inputWidgets": {},
     "nuid": "ef9aa83f-66be-45cc-88b2-7ab3a82e75c4",
     "showTitle": false,
     "tableResultSettingsMap": {},
     "title": ""
    }
   },
   "outputs": [],
   "source": [
    "dbutils.widgets.text(\"space_id\",\"\")\n",
    "dbutils.widgets.text(\"access_token\",\"\")"
   ]
  },
  {
   "cell_type": "code",
   "execution_count": 0,
   "metadata": {
    "application/vnd.databricks.v1+cell": {
     "cellMetadata": {
      "byteLimit": 2048000,
      "rowLimit": 10000
     },
     "inputWidgets": {},
     "nuid": "d9533dc8-ddf4-4fb7-9f94-4d5efa534f59",
     "showTitle": true,
     "tableResultSettingsMap": {},
     "title": "1. Retrieve available spaces"
    }
   },
   "outputs": [],
   "source": [
    "import requests\n",
    "# 1. getspace: Retrieve available spaces\n",
    "workspace_url = \"https://\" + dbutils.notebook.entry_point.getDbutils().notebook().getContext().browserHostName().get()\n",
    "space_id=dbutils.widgets.get(\"space_id\")\n",
    "access_token=dbutils.widgets.get(\"access_token\")\n",
    "get_spaces_url = f\"{workspace_url}/api/2.0/genie/spaces/{space_id}\"\n",
    "response1 = requests.get(get_spaces_url, headers={\"Authorization\": f\"Bearer {access_token}\"})\n",
    "print(response1.text)"
   ]
  },
  {
   "cell_type": "code",
   "execution_count": 0,
   "metadata": {
    "application/vnd.databricks.v1+cell": {
     "cellMetadata": {
      "byteLimit": 2048000,
      "rowLimit": 10000
     },
     "inputWidgets": {},
     "nuid": "db8fa1d4-dd3e-4774-8a42-ad3f61ae3d91",
     "showTitle": true,
     "tableResultSettingsMap": {},
     "title": "2. Start a new conversation in a specific space"
    }
   },
   "outputs": [],
   "source": [
    "# 2. startconversation: Start a new conversation in a specific space\n",
    "start_conv_url = f\"{workspace_url}/api/2.0/genie/spaces/{space_id}/start-conversation\"\n",
    "payload_start = {\"content\": \"Analisis de Ventas\"} # Nombre del hilo de conversación\n",
    "response2 = requests.post(start_conv_url, headers={\"Authorization\": f\"Bearer {access_token}\"}, json=payload_start)\n",
    "print(response2.text)"
   ]
  },
  {
   "cell_type": "code",
   "execution_count": 0,
   "metadata": {
    "application/vnd.databricks.v1+cell": {
     "cellMetadata": {
      "byteLimit": 2048000,
      "rowLimit": 10000
     },
     "inputWidgets": {},
     "nuid": "99426ea1-8caf-4177-9ec2-94f7a889f34c",
     "showTitle": true,
     "tableResultSettingsMap": {},
     "title": "3. Create a new message in the conversation"
    }
   },
   "outputs": [],
   "source": [
    "# 3. createmessage: Create a new message in the conversation\n",
    "conversation_id = response2.json()['conversation_id']\n",
    "create_msg_url = f\"{workspace_url}/api/2.0/genie/spaces/{space_id}/conversations/{conversation_id}/messages\"\n",
    "payload_message = {\"content\": \"Dame el valor total de venta por año\"}\n",
    "response3 = requests.post(create_msg_url, headers={\"Authorization\": f\"Bearer {access_token}\"}, json=payload_message)\n",
    "print(response3.text)"
   ]
  },
  {
   "cell_type": "code",
   "execution_count": 0,
   "metadata": {
    "application/vnd.databricks.v1+cell": {
     "cellMetadata": {
      "byteLimit": 2048000,
      "rowLimit": 10000
     },
     "inputWidgets": {},
     "nuid": "d9cccf61-4a1c-4177-9448-686b8d8f00cb",
     "showTitle": true,
     "tableResultSettingsMap": {},
     "title": "4. Retrieve the created message from the conversation"
    }
   },
   "outputs": [],
   "source": [
    "# 4. getmessage: Retrieve the created message from the conversation\n",
    "message_id = response3.json()['message_id']\n",
    "get_msg_url = f\"{workspace_url}/api/2.0/genie/spaces/{space_id}/conversations/{conversation_id}/messages/{message_id}\"\n",
    "response4 = requests.get(get_msg_url, headers={\"Authorization\": f\"Bearer {access_token}\"})\n",
    "print(response4.text)"
   ]
  },
  {
   "cell_type": "code",
   "execution_count": 0,
   "metadata": {
    "application/vnd.databricks.v1+cell": {
     "cellMetadata": {
      "byteLimit": 2048000,
      "rowLimit": 10000
     },
     "inputWidgets": {},
     "nuid": "7a6fce25-68c5-4dc4-ba9b-6a2a5f34fb1d",
     "showTitle": true,
     "tableResultSettingsMap": {},
     "title": "5. Get the SQL query attachment result (if any) for the message"
    }
   },
   "outputs": [],
   "source": [
    "# 5. getmessageattachmentqueryresult: Get the SQL query attachment result (if any) for the message\n",
    "attachment_id = response4.json()['attachments'][0]['attachment_id']\n",
    "get_attachment_result_url = f\"{workspace_url}/api/2.0/genie/spaces/{space_id}/conversations/{conversation_id}/messages/{message_id}/attachments/{attachment_id}/query-result\"\n",
    "response5 = requests.get(get_attachment_result_url, headers={\"Authorization\": f\"Bearer {access_token}\"})\n",
    "print(response5.text)"
   ]
  },
  {
   "cell_type": "code",
   "execution_count": 0,
   "metadata": {
    "application/vnd.databricks.v1+cell": {
     "cellMetadata": {
      "byteLimit": 2048000,
      "rowLimit": 10000
     },
     "inputWidgets": {},
     "nuid": "a5a2d0b6-ee53-466d-b003-0bf5c4df522f",
     "showTitle": true,
     "tableResultSettingsMap": {},
     "title": "6. We can also use SQL endpoint statement info to get that result"
    }
   },
   "outputs": [],
   "source": [
    "# 6. we can also use SQL endpoint statement info to get that result\n",
    "statement_id = response4.json()['query_result']['statement_id']\n",
    "get_attachment_result_url = f\"{workspace_url}/api/2.0/sql/statements/{statement_id}\"\n",
    "response6 = requests.get(get_attachment_result_url, headers={\"Authorization\": f\"Bearer {access_token}\"})\n",
    "print(response6.text)"
   ]
  }
 ],
 "metadata": {
  "application/vnd.databricks.v1+notebook": {
   "computePreferences": null,
   "dashboards": [],
   "environmentMetadata": {
    "base_environment": "",
    "environment_version": "4"
   },
   "inputWidgetPreferences": null,
   "language": "python",
   "notebookMetadata": {
    "mostRecentlyExecutedCommandWithImplicitDF": {
     "commandId": 841326960816698,
     "dataframes": [
      "_sqldf"
     ]
    },
    "pythonIndentUnit": 4
   },
   "notebookName": "5.2 - IA-Agent",
   "widgets": {
    "access_token": {
     "currentValue": "",
     "nuid": "da4057a1-60f2-4dbe-b7d7-8245fc41ce7b",
     "typedWidgetInfo": {
      "autoCreated": false,
      "defaultValue": "",
      "label": null,
      "name": "access_token",
      "options": {
       "widgetDisplayType": "Text",
       "validationRegex": null
      },
      "parameterDataType": "String"
     },
     "widgetInfo": {
      "widgetType": "text",
      "defaultValue": "",
      "label": null,
      "name": "access_token",
      "options": {
       "widgetType": "text",
       "autoCreated": false,
       "validationRegex": null
      }
     }
    },
    "space_id": {
     "currentValue": "",
     "nuid": "e4e7abf2-ea48-442e-9cb5-f1c5e28fc3a8",
     "typedWidgetInfo": {
      "autoCreated": false,
      "defaultValue": "",
      "label": null,
      "name": "space_id",
      "options": {
       "widgetDisplayType": "Text",
       "validationRegex": null
      },
      "parameterDataType": "String"
     },
     "widgetInfo": {
      "widgetType": "text",
      "defaultValue": "",
      "label": null,
      "name": "space_id",
      "options": {
       "widgetType": "text",
       "autoCreated": false,
       "validationRegex": null
      }
     }
    }
   }
  },
  "language_info": {
   "name": "python"
  }
 },
 "nbformat": 4,
 "nbformat_minor": 0
}
