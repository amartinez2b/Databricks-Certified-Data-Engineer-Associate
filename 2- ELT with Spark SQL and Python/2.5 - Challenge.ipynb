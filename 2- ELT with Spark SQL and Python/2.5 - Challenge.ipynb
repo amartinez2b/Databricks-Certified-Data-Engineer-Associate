{
 "cells": [
  {
   "cell_type": "markdown",
   "metadata": {
    "application/vnd.databricks.v1+cell": {
     "cellMetadata": {},
     "inputWidgets": {},
     "nuid": "006f5890-2da4-42e7-ad85-90a265cb01bb",
     "showTitle": false,
     "tableResultSettingsMap": {},
     "title": ""
    }
   },
   "source": [
    "🧩 Challenge: “Retrasos y destinos de vuelos”\n",
    "\n",
    "🎯 Objetivo\n",
    "\n",
    "Analizar los retrasos en vuelos de Norteamérica y enriquecer los datos con información de aeropuertos, aplicando transformaciones, uniones y funciones personalizadas (UDF) en PySpark dentro de Databricks.\n",
    "\n",
    "🧾 Descripción del reto\n",
    "1. Lectura de datos\n",
    "  - Cargar dos archivos desde dbfs:/databricks-datasets/flights/:\n",
    "  - departuredelays.csv: contiene información sobre vuelos, fechas, retrasos, distancias, aeropuertos de origen y destino.\n",
    "  - airport-codes-na.txt: contiene información de aeropuertos (ciudad, estado, país e IATA).\n",
    "  - Configurar correctamente las opciones de lectura considerando encabezados, tipos de datos y delimitadores.\n",
    "2. Exploración inicial\n",
    "  - Visualizar los esquemas de ambos DataFrames.\n",
    "  - Contar registros y revisar algunas filas para verificar el formato.\n",
    "  - Identificar si hay columnas con valores nulos o inconsistentes.\n",
    "3. Limpieza y estandarización\n",
    "  - Asegurarse de que los nombres de columnas estén normalizados (por ejemplo, en minúsculas).\n",
    "  - Convertir las columnas numéricas a sus tipos correctos (por ejemplo, delay y distance).\n",
    "  - Renombrar columnas cuando sea necesario para facilitar las uniones (por ejemplo, IATA → iata).\n",
    "4. Integración de datos\n",
    "  - Unir el dataset de vuelos con el de aeropuertos dos veces:\n",
    "  - Una para obtener la información del aeropuerto de origen. Para agregar la información del aeropuerto de origen, realiza una unión entre: df_vuelos.origin = df_aeropuertos.iata\n",
    "  - Otra para obtener la información del aeropuerto de destino. Para agregar la información del aeropuerto de destino, realiza otra unión entre: df_vuelos.destination = df_aeropuertos.iata\n",
    "  - Verificar que las uniones se hayan realizado correctamente y que la información de origen y destino sea coherente.\n",
    "5. Análisis exploratorio\n",
    "  - Calcular indicadores básicos como:\n",
    "    - Cantidad de vuelos retrasados por aeropuerto de origen.\n",
    "    - Promedio de retraso por estado.\n",
    "    - Promedio de distancia de los vuelos con retraso superior a cierto umbral (por ejemplo, 2 horas).\n",
    "    - Ordenar los resultados para identificar los aeropuertos con más retrasos.\n",
    "6. Creación y uso de una UDF (User Defined Function)\n",
    "  - Definir una función personalizada en Python que clasifique los vuelos según su nivel de retraso (por ejemplo: A tiempo, Leve, Moderado, Grave). ≤ 0 -> \"A tiempo\", 1 a 30 Leve, 31 - 120 Moderado, > 120 Crtitco\n",
    "  - Registrar esta función como UDF en PySpark.\n",
    "  - Aplicarla al DataFrame para generar una nueva columna con el nivel de retraso correspondiente.\n",
    "  - Visualizar algunos resultados para comprobar que la clasificación sea correcta.\n",
    "7. Resultados finales\n",
    "  - Guardar el DataFrame final en formato Delta o Parquet.\n",
    "  - Crear una vista temporal en Databricks para realizar consultas SQL sobre los resultados.\n",
    "  - Explorar visualmente los tipos de retraso en un gráfico de barras o torta.\n",
    "9. Análisis final\n",
    "  - Crear una segunda UDF que asigne valores numéricos estimados según el tipo de retraso.\n",
    "  - Analizar el retraso promedio por país de origen o destino.\n",
    "  - Identificar el top 10 de aeropuertos con los retrasos más graves."
   ]
  }
 ],
 "metadata": {
  "application/vnd.databricks.v1+notebook": {
   "computePreferences": null,
   "dashboards": [],
   "environmentMetadata": {
    "base_environment": "",
    "environment_version": "4"
   },
   "inputWidgetPreferences": null,
   "language": "python",
   "notebookMetadata": {
    "pythonIndentUnit": 4
   },
   "notebookName": "2.5 - Challenge",
   "widgets": {}
  },
  "language_info": {
   "name": "python"
  }
 },
 "nbformat": 4,
 "nbformat_minor": 0
}
