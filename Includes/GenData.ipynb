{
 "cells": [
  {
   "cell_type": "code",
   "execution_count": 0,
   "metadata": {
    "application/vnd.databricks.v1+cell": {
     "cellMetadata": {
      "byteLimit": 2048000,
      "rowLimit": 10000
     },
     "inputWidgets": {},
     "nuid": "2bd2f28a-7598-4c96-bb3d-b1f52915164f",
     "showTitle": false,
     "tableResultSettingsMap": {},
     "title": ""
    }
   },
   "outputs": [],
   "source": [
    "!pip install Faker"
   ]
  },
  {
   "cell_type": "code",
   "execution_count": 0,
   "metadata": {
    "application/vnd.databricks.v1+cell": {
     "cellMetadata": {
      "byteLimit": 2048000,
      "rowLimit": 10000
     },
     "inputWidgets": {},
     "nuid": "dabc72e6-e691-4b95-a05c-03716c2d6f68",
     "showTitle": false,
     "tableResultSettingsMap": {},
     "title": ""
    }
   },
   "outputs": [],
   "source": [
    "from pyspark.sql import SparkSession\n",
    "from pyspark.sql.types import StructType, StructField, StringType, IntegerType, DoubleType, ArrayType\n",
    "from faker import Faker\n",
    "import random\n",
    "\n",
    "# Crear sesión Spark\n",
    "spark = SparkSession.builder.appName(\"FakerComplexData\").getOrCreate()\n",
    "\n",
    "fake = Faker(\"es_ES\")\n",
    "\n",
    "data = []\n",
    "for i in range(10):\n",
    "    direccion = {\n",
    "        \"calle\": fake.street_name(),\n",
    "        \"ciudad\": fake.city(),\n",
    "        \"pais\": fake.country()\n",
    "    }\n",
    "\n",
    "    # 🔁 Generar números base\n",
    "    base_phones = [fake.phone_number() for _ in range(random.randint(1, 2))]\n",
    "\n",
    "    # 🔁 Repetir algunos números y agregar nulos\n",
    "    telefonos = []\n",
    "    for _ in range(random.randint(1, 5)):\n",
    "        choice = random.choice([\"repeat\", \"null\", \"new\"])\n",
    "        if choice == \"repeat\":\n",
    "            telefonos.append(random.choice(base_phones))\n",
    "        elif choice == \"null\":\n",
    "            telefonos.append(None)\n",
    "        else:\n",
    "            telefonos.append(fake.phone_number())\n",
    "\n",
    "    # 🛒 Compras\n",
    "    compras = [\n",
    "        {\"producto\": fake.word(), \"precio\": round(random.uniform(10, 500), 2)}\n",
    "        for _ in range(random.randint(1, 4))\n",
    "    ]\n",
    "\n",
    "    data.append({\n",
    "        \"id\": i + 1,\n",
    "        \"nombre\": fake.name(),\n",
    "        \"edad\": random.randint(18, 70),\n",
    "        \"direccion\": direccion,\n",
    "        \"telefonos\": telefonos,\n",
    "        \"compras\": compras\n",
    "    })\n",
    "\n",
    "# 🧱 Esquema del DataFrame\n",
    "schema = StructType([\n",
    "    StructField(\"id\", IntegerType(), False),\n",
    "    StructField(\"nombre\", StringType(), True),\n",
    "    StructField(\"edad\", IntegerType(), True),\n",
    "    StructField(\"direccion\", StructType([\n",
    "        StructField(\"calle\", StringType(), True),\n",
    "        StructField(\"ciudad\", StringType(), True),\n",
    "        StructField(\"pais\", StringType(), True)\n",
    "    ])),\n",
    "    StructField(\"telefonos\", ArrayType(StringType())),\n",
    "    StructField(\"compras\", ArrayType(\n",
    "        StructType([\n",
    "            StructField(\"producto\", StringType(), True),\n",
    "            StructField(\"precio\", DoubleType(), True)\n",
    "        ])\n",
    "    ))\n",
    "])\n",
    "\n",
    "# 🚀 Crear el DataFrame\n",
    "df = spark.createDataFrame(data, schema=schema)\n",
    "\n",
    "df.createOrReplaceTempView(\"customer_shop\")"
   ]
  },
  {
   "cell_type": "code",
   "execution_count": 0,
   "metadata": {
    "application/vnd.databricks.v1+cell": {
     "cellMetadata": {},
     "inputWidgets": {},
     "nuid": "a8cff314-84d3-462d-9c22-395750bf97ab",
     "showTitle": false,
     "tableResultSettingsMap": {},
     "title": ""
    }
   },
   "outputs": [],
   "source": [
    "old_orders = [\n",
    "    {\"_id\":1,\"product\":\"Televisor\",\"quantity\":1,\"price\":345.32},\n",
    "    {\"_id\":2,\"product\":\"Televisor\",\"quantity\":1,\"price\":345.32},\n",
    "    {\"_id\":3,\"product\":\"Televisor\",\"quantity\":1,\"price\":345.32},\n",
    "    {\"_id\":4,\"product\":\"Televisor\",\"quantity\":1,\"price\":345.32},\n",
    "    {\"_id\":5,\"product\":\"Televisor\",\"quantity\":1,\"price\":345.32}\n",
    "]"
   ]
  }
 ],
 "metadata": {
  "application/vnd.databricks.v1+notebook": {
   "computePreferences": null,
   "dashboards": [],
   "environmentMetadata": {
    "base_environment": "",
    "environment_version": "4"
   },
   "inputWidgetPreferences": null,
   "language": "python",
   "notebookMetadata": {
    "pythonIndentUnit": 4
   },
   "notebookName": "GenData",
   "widgets": {}
  },
  "language_info": {
   "name": "python"
  }
 },
 "nbformat": 4,
 "nbformat_minor": 0
}
