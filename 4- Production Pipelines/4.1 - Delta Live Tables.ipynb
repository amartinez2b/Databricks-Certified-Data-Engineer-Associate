{
 "cells": [
  {
   "cell_type": "markdown",
   "metadata": {
    "application/vnd.databricks.v1+cell": {
     "cellMetadata": {},
     "inputWidgets": {},
     "nuid": "1a0ccc2b-045a-4ac3-b460-48106216c31f",
     "showTitle": false,
     "tableResultSettingsMap": {},
     "title": ""
    }
   },
   "source": [
    "\n",
    "\n",
    "# Delta Live Tables"
   ]
  },
  {
   "cell_type": "markdown",
   "metadata": {
    "application/vnd.databricks.v1+cell": {
     "cellMetadata": {},
     "inputWidgets": {},
     "isMarkdownSandbox": true,
     "nuid": "5e263b05-9936-4771-941e-271581249c1e",
     "showTitle": false,
     "tableResultSettingsMap": {},
     "title": ""
    }
   },
   "source": [
    "\n",
    "<div  style=\"text-align: center; line-height: 0; padding-top: 9px;\">\n",
    "  <img src=\"https://raw.githubusercontent.com/derar-alhussein/Databricks-Certified-Data-Engineer-Associate/main/Includes/images/bookstore_schema.png\" alt=\"Databricks Learning\" style=\"width: 600\">\n",
    "</div>"
   ]
  },
  {
   "cell_type": "code",
   "execution_count": 0,
   "metadata": {
    "application/vnd.databricks.v1+cell": {
     "cellMetadata": {},
     "inputWidgets": {},
     "nuid": "c50b4277-8b1f-4412-9c79-4d4d6c48b8ba",
     "showTitle": false,
     "tableResultSettingsMap": {},
     "title": ""
    }
   },
   "outputs": [],
   "source": [
    "SET datasets.path=dbfs:/mnt/demo-datasets/bookstore;"
   ]
  },
  {
   "cell_type": "markdown",
   "metadata": {
    "application/vnd.databricks.v1+cell": {
     "cellMetadata": {},
     "inputWidgets": {},
     "nuid": "bcd0bd84-06ac-42d7-b4b3-1a8bbe99f72e",
     "showTitle": false,
     "tableResultSettingsMap": {},
     "title": ""
    }
   },
   "source": [
    "## Bronze Layer Tables"
   ]
  },
  {
   "cell_type": "markdown",
   "metadata": {
    "application/vnd.databricks.v1+cell": {
     "cellMetadata": {},
     "inputWidgets": {},
     "nuid": "d68017e1-ae94-42f8-87b3-fa95a8bb975a",
     "showTitle": false,
     "tableResultSettingsMap": {},
     "title": ""
    }
   },
   "source": [
    "#### orders_raw"
   ]
  },
  {
   "cell_type": "code",
   "execution_count": 0,
   "metadata": {
    "application/vnd.databricks.v1+cell": {
     "cellMetadata": {},
     "inputWidgets": {},
     "nuid": "7cba011f-4606-4256-9b33-0d15ced4a851",
     "showTitle": false,
     "tableResultSettingsMap": {},
     "title": ""
    }
   },
   "outputs": [],
   "source": [
    "CREATE OR REFRESH STREAMING LIVE TABLE orders_raw\n",
    "COMMENT \"The raw books orders, ingested from orders-raw\"\n",
    "AS SELECT * FROM cloud_files(\"${datasets.path}/orders-json-raw\", \"json\",\n",
    "                             map(\"cloudFiles.inferColumnTypes\", \"true\"))"
   ]
  },
  {
   "cell_type": "markdown",
   "metadata": {
    "application/vnd.databricks.v1+cell": {
     "cellMetadata": {},
     "inputWidgets": {},
     "nuid": "7e640f6d-abd9-4470-a3af-a002948948af",
     "showTitle": false,
     "tableResultSettingsMap": {},
     "title": ""
    }
   },
   "source": [
    "#### customers"
   ]
  },
  {
   "cell_type": "code",
   "execution_count": 0,
   "metadata": {
    "application/vnd.databricks.v1+cell": {
     "cellMetadata": {},
     "inputWidgets": {},
     "nuid": "5bab5685-b385-4725-923b-94bdfcc032e1",
     "showTitle": false,
     "tableResultSettingsMap": {},
     "title": ""
    }
   },
   "outputs": [],
   "source": [
    "CREATE OR REFRESH LIVE TABLE customers\n",
    "COMMENT \"The customers lookup table, ingested from customers-json\"\n",
    "AS SELECT * FROM json.`${datasets.path}/customers-json`"
   ]
  },
  {
   "cell_type": "markdown",
   "metadata": {
    "application/vnd.databricks.v1+cell": {
     "cellMetadata": {},
     "inputWidgets": {},
     "nuid": "aa326e98-7e79-4511-927a-2e9765d22bc8",
     "showTitle": false,
     "tableResultSettingsMap": {},
     "title": ""
    }
   },
   "source": [
    "\n",
    "\n",
    "\n",
    "## Silver Layer Tables\n",
    "\n",
    "#### orders_cleaned"
   ]
  },
  {
   "cell_type": "code",
   "execution_count": 0,
   "metadata": {
    "application/vnd.databricks.v1+cell": {
     "cellMetadata": {},
     "inputWidgets": {},
     "nuid": "7b4b13f2-6578-4737-bb01-9a0bd4589b3d",
     "showTitle": false,
     "tableResultSettingsMap": {},
     "title": ""
    }
   },
   "outputs": [],
   "source": [
    "CREATE OR REFRESH STREAMING LIVE TABLE orders_cleaned (\n",
    "  CONSTRAINT valid_order_number EXPECT (order_id IS NOT NULL) ON VIOLATION DROP ROW\n",
    ")\n",
    "COMMENT \"The cleaned books orders with valid order_id\"\n",
    "AS\n",
    "  SELECT order_id, quantity, o.customer_id, c.profile:first_name as f_name, c.profile:last_name as l_name,\n",
    "         cast(from_unixtime(order_timestamp, 'yyyy-MM-dd HH:mm:ss') AS timestamp) order_timestamp, o.books,\n",
    "         c.profile:address:country as country\n",
    "  FROM STREAM(LIVE.orders_raw) o\n",
    "  LEFT JOIN LIVE.customers c\n",
    "    ON o.customer_id = c.customer_id"
   ]
  },
  {
   "cell_type": "markdown",
   "metadata": {
    "application/vnd.databricks.v1+cell": {
     "cellMetadata": {},
     "inputWidgets": {},
     "nuid": "790eb179-f2cb-42ce-baec-8afd08f9290f",
     "showTitle": false,
     "tableResultSettingsMap": {},
     "title": ""
    }
   },
   "source": [
    ">> Constraint violation\n",
    "\n",
    "| **`ON VIOLATION`** | Behavior |\n",
    "| --- | --- |\n",
    "| **`DROP ROW`** | Discard records that violate constraints |\n",
    "| **`FAIL UPDATE`** | Violated constraint causes the pipeline to fail  |\n",
    "| Omitted | Records violating constraints will be kept, and reported in metrics |"
   ]
  },
  {
   "cell_type": "markdown",
   "metadata": {
    "application/vnd.databricks.v1+cell": {
     "cellMetadata": {},
     "inputWidgets": {},
     "nuid": "08efa5ae-18b9-48d4-b6a0-1936c69a600f",
     "showTitle": false,
     "tableResultSettingsMap": {},
     "title": ""
    }
   },
   "source": [
    "\n",
    "\n",
    "## Gold Tables"
   ]
  },
  {
   "cell_type": "code",
   "execution_count": 0,
   "metadata": {
    "application/vnd.databricks.v1+cell": {
     "cellMetadata": {},
     "inputWidgets": {},
     "nuid": "ea0a93dd-a1b0-4d2d-bd17-6e8f0ff985f9",
     "showTitle": false,
     "tableResultSettingsMap": {},
     "title": ""
    }
   },
   "outputs": [],
   "source": [
    "CREATE OR REFRESH LIVE TABLE cn_daily_customer_books\n",
    "COMMENT \"Daily number of books per customer in China\"\n",
    "AS\n",
    "  SELECT customer_id, f_name, l_name, date_trunc(\"DD\", order_timestamp) order_date, sum(quantity) books_counts\n",
    "  FROM LIVE.orders_cleaned\n",
    "  WHERE country = \"China\"\n",
    "  GROUP BY customer_id, f_name, l_name, date_trunc(\"DD\", order_timestamp)"
   ]
  },
  {
   "cell_type": "code",
   "execution_count": 0,
   "metadata": {
    "application/vnd.databricks.v1+cell": {
     "cellMetadata": {},
     "inputWidgets": {},
     "nuid": "fa19976f-85d6-47d8-b46e-11734057b3a9",
     "showTitle": false,
     "tableResultSettingsMap": {},
     "title": ""
    }
   },
   "outputs": [],
   "source": [
    "CREATE OR REFRESH LIVE TABLE fr_daily_customer_books\n",
    "COMMENT \"Daily number of books per customer in France\"\n",
    "AS\n",
    "  SELECT customer_id, f_name, l_name, date_trunc(\"DD\", order_timestamp) order_date, sum(quantity) books_counts\n",
    "  FROM LIVE.orders_cleaned\n",
    "  WHERE country = \"France\"\n",
    "  GROUP BY customer_id, f_name, l_name, date_trunc(\"DD\", order_timestamp)"
   ]
  },
  {
   "cell_type": "code",
   "execution_count": 0,
   "metadata": {
    "application/vnd.databricks.v1+cell": {
     "cellMetadata": {},
     "inputWidgets": {},
     "nuid": "3a43607e-af34-4559-be62-dfcb117b6d4a",
     "showTitle": false,
     "tableResultSettingsMap": {},
     "title": ""
    }
   },
   "outputs": [],
   "source": []
  }
 ],
 "metadata": {
  "application/vnd.databricks.v1+notebook": {
   "computePreferences": null,
   "dashboards": [],
   "environmentMetadata": null,
   "inputWidgetPreferences": null,
   "language": "sql",
   "notebookMetadata": {},
   "notebookName": "4.1 - Delta Live Tables",
   "widgets": {}
  },
  "language_info": {
   "name": "sql"
  }
 },
 "nbformat": 4,
 "nbformat_minor": 0
}